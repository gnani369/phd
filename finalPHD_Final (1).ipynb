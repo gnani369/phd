{
  "nbformat": 4,
  "nbformat_minor": 0,
  "metadata": {
    "accelerator": "TPU",
    "colab": {
      "name": "finalPHD -Final.ipynb",
      "provenance": [],
      "collapsed_sections": [],
      "machine_shape": "hm"
    },
    "kernelspec": {
      "display_name": "Python 3",
      "language": "python",
      "name": "python3"
    },
    "language_info": {
      "codemirror_mode": {
        "name": "ipython",
        "version": 3
      },
      "file_extension": ".py",
      "mimetype": "text/x-python",
      "name": "python",
      "nbconvert_exporter": "python",
      "pygments_lexer": "ipython3",
      "version": "3.6.8"
    }
  },
  "cells": [
    {
      "cell_type": "code",
      "metadata": {
        "colab_type": "code",
        "id": "_8sJZ2CQLoUs",
        "colab": {}
      },
      "source": [
        ""
      ],
      "execution_count": 0,
      "outputs": []
    },
    {
      "cell_type": "markdown",
      "metadata": {
        "colab_type": "text",
        "id": "cPNmPmtnVFbr"
      },
      "source": [
        "## <center> Importing the libraries</center>"
      ]
    },
    {
      "cell_type": "code",
      "metadata": {
        "colab_type": "code",
        "id": "DxTWpQHnRcM3",
        "colab": {}
      },
      "source": [
        ""
      ],
      "execution_count": 0,
      "outputs": []
    },
    {
      "cell_type": "code",
      "metadata": {
        "colab_type": "code",
        "id": "53shbMQhUQKu",
        "outputId": "c4354197-7a60-41e6-ae33-d0610e8a65bd",
        "colab": {
          "base_uri": "https://localhost:8080/",
          "height": 34
        }
      },
      "source": [
        ""
      ],
      "execution_count": 0,
      "outputs": [
        {
          "output_type": "stream",
          "text": [
            "Drive already mounted at /content/drive; to attempt to forcibly remount, call drive.mount(\"/content/drive\", force_remount=True).\n"
          ],
          "name": "stdout"
        }
      ]
    },
    {
      "cell_type": "code",
      "metadata": {
        "colab_type": "code",
        "id": "D89ByhyZWOLU",
        "outputId": "5ef37466-5a0b-4d11-cd61-d628936aaea0",
        "colab": {
          "base_uri": "https://localhost:8080/",
          "height": 125
        }
      },
      "source": [
        "from google.colab import drive\n",
        "drive.mount('/content/drive')"
      ],
      "execution_count": 1,
      "outputs": [
        {
          "output_type": "stream",
          "text": [
            "Go to this URL in a browser: https://accounts.google.com/o/oauth2/auth?client_id=947318989803-6bn6qk8qdgf4n4g3pfee6491hc0brc4i.apps.googleusercontent.com&redirect_uri=urn%3aietf%3awg%3aoauth%3a2.0%3aoob&response_type=code&scope=email%20https%3a%2f%2fwww.googleapis.com%2fauth%2fdocs.test%20https%3a%2f%2fwww.googleapis.com%2fauth%2fdrive%20https%3a%2f%2fwww.googleapis.com%2fauth%2fdrive.photos.readonly%20https%3a%2f%2fwww.googleapis.com%2fauth%2fpeopleapi.readonly\n",
            "\n",
            "Enter your authorization code:\n",
            "··········\n",
            "Mounted at /content/drive\n"
          ],
          "name": "stdout"
        }
      ]
    },
    {
      "cell_type": "markdown",
      "metadata": {
        "id": "y17RpeUc53OV",
        "colab_type": "text"
      },
      "source": [
        "BUSINESS PROBLEM:\n",
        "\n",
        "A new fast food chain is seeing rapid expansion over the past couple of years. They are now trying to optimize their supply chain to ensure that there are no shortages of ingredients.For this, they’ve tasked their data science team to come up with a model that could predict the output of each food processing farm over the next few years. These predictions could further increase the efficiency of their current supply chain management systems.\n",
        "\n",
        "MACHINE LEARNING PROBLEM:\n",
        "\n",
        "                          USE A REGRESSION MODEL TO PREDICT THE PROPERTY VALUE "
      ]
    },
    {
      "cell_type": "markdown",
      "metadata": {
        "id": "zSs9jBqo53OX",
        "colab_type": "text"
      },
      "source": [
        "`##<center>Train data </center>"
      ]
    },
    {
      "cell_type": "markdown",
      "metadata": {
        "id": "Ywz1BJuT53OY",
        "colab_type": "text"
      },
      "source": [
        " <table cellspacing=\"0\" border=\"0\">\n",
        "\t<tr>\n",
        "\t\t<td height=\"17\" align=\"left\">date</td>\n",
        "\t\t<td align=\"left\">The Timestamp at which the yield of food processiong farm was measered</td>\n",
        "\t</tr>\n",
        "\t<tr>\n",
        "\t\t<td height=\"17\" align=\"left\">farm_id</td>\n",
        "\t\t<td align=\"left\">The farm identifier that recognizes the farm food processing plant </td>\n",
        "\t</tr>\n",
        "\t<tr>\n",
        "\t\t<td height=\"17\" align=\"left\">ingredient_type:</td>\n",
        "\t\t<td align=\"left\">#The yield of the plant  in tonnes  </td>\n",
        "\t</tr>\n",
        "\t<tr>\n",
        "\t\t<td height=\"17\" align=\"left\">yield</td>\n",
        "\t\t<td align=\"left\">Annual income of the customer</td>\n",
        "\t</tr>\n",
        "\t<tr>\n",
        "\t\n",
        "</table>"
      ]
    },
    {
      "cell_type": "markdown",
      "metadata": {
        "id": "EmYZnjxp53Oa",
        "colab_type": "text"
      },
      "source": [
        "`##<center>Farm data </center>"
      ]
    },
    {
      "cell_type": "markdown",
      "metadata": {
        "id": "dmCRI2AO53Ob",
        "colab_type": "text"
      },
      "source": [
        " <table cellspacing=\"0\" border=\"0\">\n",
        "\t<tr>\n",
        "\t\t<td height=\"17\" align=\"left\">farm_id</td>\n",
        "\t\t<td align=\"left\">The farm identifier that recognizes the farm food processing plant </td>\n",
        "\t</tr>\n",
        "\t<tr>\n",
        "\t\t<td height=\"17\" align=\"left\">founding_year</td>\n",
        "\t\t<td align=\"left\">They year when the operations commenced on the farm and ood processing plant </td>\n",
        "\t</tr>\n",
        "\t<tr>\n",
        "\t\t<td height=\"17\" align=\"left\">num_processing_plants:</td>\n",
        "\t\t<td align=\"left\">The  number of  processing plants  present on the farm</td>\n",
        "\t</tr>\n",
        "\t<tr>\n",
        "\t\t<td height=\"17\" align=\"left\">farm_area</td>\n",
        "\t\t<td align=\"left\">The area  of the   farm    in   square meters </td>\n",
        "\t</tr>\n",
        "\t<tr> \n",
        "        <td height=\"17\" align=\"left\">farming_company:</td>\n",
        "\t\t<td align=\"left\">The company that  owns  the  farms </td>\n",
        "\t</tr>\n",
        "\t<tr>\n",
        "        <td height=\"17\" align=\"left\">deidentified_location:</td>\n",
        "\t\t<td align=\"left\">The location at  which  the  farm is  present</td>\n",
        "    </tr>\n",
        "\t<tr>   \n",
        "</table>"
      ]
    },
    {
      "cell_type": "markdown",
      "metadata": {
        "id": "92ZymELV53Oc",
        "colab_type": "text"
      },
      "source": [
        "`##<center>Train Weather </center>"
      ]
    },
    {
      "cell_type": "markdown",
      "metadata": {
        "id": "5WCoDe_t53Oe",
        "colab_type": "text"
      },
      "source": [
        "<table cellspacing=\"0\" border=\"0\">\n",
        "\t<tr>\n",
        "\t\t<td height=\"17\" align=\"left\">Date</td>\n",
        "\t\t<td align=\"left\">The Date at which the yield of food processiong farm was measered </td>\n",
        "\t</tr>\n",
        "\t<tr>\n",
        "\t\t<td height=\"17\" align=\"left\">Deidentified_location</td>\n",
        "\t\t<td align=\"left\">The location at wich the farm is present </td>\n",
        "\t</tr>\n",
        "\t<tr>\n",
        "\t\t<td height=\"17\" align=\"left\">temp_obs</td>\n",
        "\t\t<td align=\"left\">Temperature Observations</td>\n",
        "\t</tr>\n",
        "\t<tr>\n",
        "\t\t<td height=\"17\" align=\"left\">cloudiness</td>\n",
        "\t\t<td align=\"left\">The cloudiness</td>\n",
        "\t</tr>\n",
        "\t<tr> \n",
        "        <td height=\"17\" align=\"left\">wind_direction:</td>\n",
        "\t\t<td align=\"left\">The direction of wind </td>\n",
        "\t</tr>\n",
        "\t<tr>\n",
        "        <td height=\"17\" align=\"left\">dew_temp:</td>\n",
        "\t\t<td align=\"left\">the temperature to which air must be cooled, at a given pressure and water-vapor content, for it to reach saturation</td>\n",
        "    </tr>\n",
        "\t<tr>   \n",
        "        <td height=\"17\" align=\"left\">pressure_sea_level:</td>\n",
        "\t\t<td align=\"left\">The altimeter setting in aviation is an atmospheric pressure adjustment</td>\n",
        "\t</tr>\n",
        "    </tr>\n",
        "        <td height=\"17\" align=\"left\">precipitation:</td>\n",
        "\t\t<td align=\"left\">All precipitation develops in clouds, and clouds are formed when water vapor in the atmosphere cools and condenses</td>\n",
        "    </tr>\n",
        "    <tr>\n",
        "         <td height=\"17\" align=\"left\">wind_speed:</td>\n",
        "\t\t <td align=\"left\">The speed of the wind</td>\n",
        "    </tr>\n",
        "    <tr>    "
      ]
    },
    {
      "cell_type": "code",
      "metadata": {
        "colab_type": "code",
        "id": "_sHUUOMcL4B8",
        "colab": {}
      },
      "source": [
        "#reading the related libraries\n",
        "import pandas as pd\n",
        "import numpy as np"
      ],
      "execution_count": 0,
      "outputs": []
    },
    {
      "cell_type": "code",
      "metadata": {
        "colab_type": "code",
        "id": "dDUbbbkRXErs",
        "colab": {}
      },
      "source": [
        ""
      ],
      "execution_count": 0,
      "outputs": []
    },
    {
      "cell_type": "markdown",
      "metadata": {
        "colab_type": "text",
        "id": "dUKfNNeWWLFf"
      },
      "source": [
        "# Reading the farmdata,traindata,weather data,test data,test weather data##"
      ]
    },
    {
      "cell_type": "code",
      "metadata": {
        "id": "Z7gLiZQT53Os",
        "colab_type": "code",
        "colab": {}
      },
      "source": [
        "\n",
        "farm_data = pd.read_csv(\"/content/drive/My Drive/farm_data.csv\")\n",
        "train_data = pd.read_csv(\"/content/drive/My Drive/train_data.csv\")\n",
        "weather_data = pd.read_csv(\"/content/drive/My Drive/train_weather.csv\")"
      ],
      "execution_count": 0,
      "outputs": []
    },
    {
      "cell_type": "code",
      "metadata": {
        "colab_type": "code",
        "id": "lI4oy1nfMSNE",
        "colab": {}
      },
      "source": [
        "test_data = pd.read_csv(\"/content/drive/My Drive/test_data .csv\")"
      ],
      "execution_count": 0,
      "outputs": []
    },
    {
      "cell_type": "code",
      "metadata": {
        "colab_type": "code",
        "id": "wB9tCDKGMb6x",
        "colab": {}
      },
      "source": [
        "test_weather = pd.read_csv(\"/content/drive/My Drive/test_weather.csv\")"
      ],
      "execution_count": 0,
      "outputs": []
    },
    {
      "cell_type": "markdown",
      "metadata": {
        "colab_type": "text",
        "id": "4-Kw4jLsWjZM"
      },
      "source": [
        "## <center> Dropping the duplicates in farm data</center>"
      ]
    },
    {
      "cell_type": "code",
      "metadata": {
        "colab_type": "code",
        "id": "Fl-Us2PXST3C",
        "outputId": "bdd79555-cab7-4292-aecd-568a21470c04",
        "colab": {
          "base_uri": "https://localhost:8080/",
          "height": 406
        }
      },
      "source": [
        "farm_data.drop([1076,537,510,634,705,574,360,678,1300,178,822,679,287,325,395],axis=0,inplace=True)\n",
        "farm_data.reset_index(drop=True)"
      ],
      "execution_count": 10,
      "outputs": [
        {
          "output_type": "execute_result",
          "data": {
            "text/html": [
              "<div>\n",
              "<style scoped>\n",
              "    .dataframe tbody tr th:only-of-type {\n",
              "        vertical-align: middle;\n",
              "    }\n",
              "\n",
              "    .dataframe tbody tr th {\n",
              "        vertical-align: top;\n",
              "    }\n",
              "\n",
              "    .dataframe thead th {\n",
              "        text-align: right;\n",
              "    }\n",
              "</style>\n",
              "<table border=\"1\" class=\"dataframe\">\n",
              "  <thead>\n",
              "    <tr style=\"text-align: right;\">\n",
              "      <th></th>\n",
              "      <th>farm_id</th>\n",
              "      <th>operations_commencing_year</th>\n",
              "      <th>num_processing_plants</th>\n",
              "      <th>farm_area</th>\n",
              "      <th>farming_company</th>\n",
              "      <th>deidentified_location</th>\n",
              "    </tr>\n",
              "  </thead>\n",
              "  <tbody>\n",
              "    <tr>\n",
              "      <th>0</th>\n",
              "      <td>fid_110884</td>\n",
              "      <td>2008.0</td>\n",
              "      <td>NaN</td>\n",
              "      <td>690.455096</td>\n",
              "      <td>Obery Farms</td>\n",
              "      <td>location 7369</td>\n",
              "    </tr>\n",
              "    <tr>\n",
              "      <th>1</th>\n",
              "      <td>fid_90053</td>\n",
              "      <td>2004.0</td>\n",
              "      <td>NaN</td>\n",
              "      <td>252.696160</td>\n",
              "      <td>Obery Farms</td>\n",
              "      <td>location 7369</td>\n",
              "    </tr>\n",
              "    <tr>\n",
              "      <th>2</th>\n",
              "      <td>fid_17537</td>\n",
              "      <td>1991.0</td>\n",
              "      <td>NaN</td>\n",
              "      <td>499.446528</td>\n",
              "      <td>Obery Farms</td>\n",
              "      <td>location 7369</td>\n",
              "    </tr>\n",
              "    <tr>\n",
              "      <th>3</th>\n",
              "      <td>fid_110392</td>\n",
              "      <td>2002.0</td>\n",
              "      <td>NaN</td>\n",
              "      <td>2200.407555</td>\n",
              "      <td>Obery Farms</td>\n",
              "      <td>location 7369</td>\n",
              "    </tr>\n",
              "    <tr>\n",
              "      <th>4</th>\n",
              "      <td>fid_62402</td>\n",
              "      <td>1975.0</td>\n",
              "      <td>NaN</td>\n",
              "      <td>10833.140121</td>\n",
              "      <td>Obery Farms</td>\n",
              "      <td>location 7369</td>\n",
              "    </tr>\n",
              "    <tr>\n",
              "      <th>...</th>\n",
              "      <td>...</td>\n",
              "      <td>...</td>\n",
              "      <td>...</td>\n",
              "      <td>...</td>\n",
              "      <td>...</td>\n",
              "      <td>...</td>\n",
              "    </tr>\n",
              "    <tr>\n",
              "      <th>1429</th>\n",
              "      <td>fid_41664</td>\n",
              "      <td>1914.0</td>\n",
              "      <td>NaN</td>\n",
              "      <td>1822.663957</td>\n",
              "      <td>Sanderson Farms</td>\n",
              "      <td>location 5150</td>\n",
              "    </tr>\n",
              "    <tr>\n",
              "      <th>1430</th>\n",
              "      <td>fid_14529</td>\n",
              "      <td>NaN</td>\n",
              "      <td>NaN</td>\n",
              "      <td>399.297094</td>\n",
              "      <td>Obery Farms</td>\n",
              "      <td>location 5150</td>\n",
              "    </tr>\n",
              "    <tr>\n",
              "      <th>1431</th>\n",
              "      <td>fid_46454</td>\n",
              "      <td>1997.0</td>\n",
              "      <td>NaN</td>\n",
              "      <td>1046.552295</td>\n",
              "      <td>Sanderson Farms</td>\n",
              "      <td>location 5150</td>\n",
              "    </tr>\n",
              "    <tr>\n",
              "      <th>1432</th>\n",
              "      <td>fid_24103</td>\n",
              "      <td>2001.0</td>\n",
              "      <td>NaN</td>\n",
              "      <td>2766.186825</td>\n",
              "      <td>Dole Food Company</td>\n",
              "      <td>location 5150</td>\n",
              "    </tr>\n",
              "    <tr>\n",
              "      <th>1433</th>\n",
              "      <td>fid_34139</td>\n",
              "      <td>2001.0</td>\n",
              "      <td>NaN</td>\n",
              "      <td>8572.252713</td>\n",
              "      <td>Wayne Farms</td>\n",
              "      <td>location 5150</td>\n",
              "    </tr>\n",
              "  </tbody>\n",
              "</table>\n",
              "<p>1434 rows × 6 columns</p>\n",
              "</div>"
            ],
            "text/plain": [
              "         farm_id  ...  deidentified_location\n",
              "0     fid_110884  ...          location 7369\n",
              "1      fid_90053  ...          location 7369\n",
              "2      fid_17537  ...          location 7369\n",
              "3     fid_110392  ...          location 7369\n",
              "4      fid_62402  ...          location 7369\n",
              "...          ...  ...                    ...\n",
              "1429   fid_41664  ...          location 5150\n",
              "1430   fid_14529  ...          location 5150\n",
              "1431   fid_46454  ...          location 5150\n",
              "1432   fid_24103  ...          location 5150\n",
              "1433   fid_34139  ...          location 5150\n",
              "\n",
              "[1434 rows x 6 columns]"
            ]
          },
          "metadata": {
            "tags": []
          },
          "execution_count": 10
        }
      ]
    },
    {
      "cell_type": "markdown",
      "metadata": {
        "colab_type": "text",
        "id": "VIj_r4sSXDLd"
      },
      "source": [
        "## <center>Merging the farm data and test data</center>\n"
      ]
    },
    {
      "cell_type": "code",
      "metadata": {
        "colab_type": "code",
        "id": "t4HTmkXuMk2R",
        "colab": {}
      },
      "source": [
        "data3 = pd.merge(farm_data,test_data,how = 'left',on = 'farm_id')"
      ],
      "execution_count": 0,
      "outputs": []
    },
    {
      "cell_type": "code",
      "metadata": {
        "colab_type": "code",
        "id": "3d3qQ7PWKRvr",
        "outputId": "8d9f1086-b088-4fbd-dc08-38d8b6f8e7a8",
        "colab": {
          "base_uri": "https://localhost:8080/",
          "height": 573
        }
      },
      "source": [
        "test_weather"
      ],
      "execution_count": 0,
      "outputs": [
        {
          "output_type": "execute_result",
          "data": {
            "text/html": [
              "<div>\n",
              "<style scoped>\n",
              "    .dataframe tbody tr th:only-of-type {\n",
              "        vertical-align: middle;\n",
              "    }\n",
              "\n",
              "    .dataframe tbody tr th {\n",
              "        vertical-align: top;\n",
              "    }\n",
              "\n",
              "    .dataframe thead th {\n",
              "        text-align: right;\n",
              "    }\n",
              "</style>\n",
              "<table border=\"1\" class=\"dataframe\">\n",
              "  <thead>\n",
              "    <tr style=\"text-align: right;\">\n",
              "      <th></th>\n",
              "      <th>timestamp</th>\n",
              "      <th>deidentified_location</th>\n",
              "      <th>temp_obs</th>\n",
              "      <th>cloudiness</th>\n",
              "      <th>wind_direction</th>\n",
              "      <th>dew_temp</th>\n",
              "      <th>pressure_sea_level</th>\n",
              "      <th>precipitation</th>\n",
              "      <th>wind_speed</th>\n",
              "    </tr>\n",
              "  </thead>\n",
              "  <tbody>\n",
              "    <tr>\n",
              "      <th>0</th>\n",
              "      <td>2017-01-01 00:00:00</td>\n",
              "      <td>location 7369</td>\n",
              "      <td>17.8</td>\n",
              "      <td>4.0</td>\n",
              "      <td>100.0</td>\n",
              "      <td>11.7</td>\n",
              "      <td>1021.4</td>\n",
              "      <td>NaN</td>\n",
              "      <td>3.6</td>\n",
              "    </tr>\n",
              "    <tr>\n",
              "      <th>1</th>\n",
              "      <td>2017-01-01 01:00:00</td>\n",
              "      <td>location 7369</td>\n",
              "      <td>17.8</td>\n",
              "      <td>2.0</td>\n",
              "      <td>130.0</td>\n",
              "      <td>12.8</td>\n",
              "      <td>1022.0</td>\n",
              "      <td>0.0</td>\n",
              "      <td>3.1</td>\n",
              "    </tr>\n",
              "    <tr>\n",
              "      <th>2</th>\n",
              "      <td>2017-01-01 02:00:00</td>\n",
              "      <td>location 7369</td>\n",
              "      <td>16.1</td>\n",
              "      <td>0.0</td>\n",
              "      <td>140.0</td>\n",
              "      <td>12.8</td>\n",
              "      <td>1021.9</td>\n",
              "      <td>0.0</td>\n",
              "      <td>3.1</td>\n",
              "    </tr>\n",
              "    <tr>\n",
              "      <th>3</th>\n",
              "      <td>2017-01-01 03:00:00</td>\n",
              "      <td>location 7369</td>\n",
              "      <td>17.2</td>\n",
              "      <td>0.0</td>\n",
              "      <td>140.0</td>\n",
              "      <td>13.3</td>\n",
              "      <td>1022.2</td>\n",
              "      <td>0.0</td>\n",
              "      <td>3.1</td>\n",
              "    </tr>\n",
              "    <tr>\n",
              "      <th>4</th>\n",
              "      <td>2017-01-01 04:00:00</td>\n",
              "      <td>location 7369</td>\n",
              "      <td>16.7</td>\n",
              "      <td>2.0</td>\n",
              "      <td>130.0</td>\n",
              "      <td>13.3</td>\n",
              "      <td>1022.3</td>\n",
              "      <td>0.0</td>\n",
              "      <td>2.6</td>\n",
              "    </tr>\n",
              "    <tr>\n",
              "      <th>...</th>\n",
              "      <td>...</td>\n",
              "      <td>...</td>\n",
              "      <td>...</td>\n",
              "      <td>...</td>\n",
              "      <td>...</td>\n",
              "      <td>...</td>\n",
              "      <td>...</td>\n",
              "      <td>...</td>\n",
              "      <td>...</td>\n",
              "    </tr>\n",
              "    <tr>\n",
              "      <th>138820</th>\n",
              "      <td>2017-12-31 19:00:00</td>\n",
              "      <td>location 5150</td>\n",
              "      <td>-15.0</td>\n",
              "      <td>NaN</td>\n",
              "      <td>310.0</td>\n",
              "      <td>-18.3</td>\n",
              "      <td>1027.5</td>\n",
              "      <td>-1.0</td>\n",
              "      <td>5.1</td>\n",
              "    </tr>\n",
              "    <tr>\n",
              "      <th>138821</th>\n",
              "      <td>2017-12-31 20:00:00</td>\n",
              "      <td>location 5150</td>\n",
              "      <td>-15.0</td>\n",
              "      <td>NaN</td>\n",
              "      <td>310.0</td>\n",
              "      <td>-18.9</td>\n",
              "      <td>1027.6</td>\n",
              "      <td>-1.0</td>\n",
              "      <td>6.2</td>\n",
              "    </tr>\n",
              "    <tr>\n",
              "      <th>138822</th>\n",
              "      <td>2017-12-31 21:00:00</td>\n",
              "      <td>location 5150</td>\n",
              "      <td>-15.0</td>\n",
              "      <td>NaN</td>\n",
              "      <td>290.0</td>\n",
              "      <td>-19.4</td>\n",
              "      <td>1028.0</td>\n",
              "      <td>-1.0</td>\n",
              "      <td>6.7</td>\n",
              "    </tr>\n",
              "    <tr>\n",
              "      <th>138823</th>\n",
              "      <td>2017-12-31 22:00:00</td>\n",
              "      <td>location 5150</td>\n",
              "      <td>-15.6</td>\n",
              "      <td>NaN</td>\n",
              "      <td>290.0</td>\n",
              "      <td>-19.4</td>\n",
              "      <td>1028.4</td>\n",
              "      <td>NaN</td>\n",
              "      <td>6.7</td>\n",
              "    </tr>\n",
              "    <tr>\n",
              "      <th>138824</th>\n",
              "      <td>2017-12-31 23:00:00</td>\n",
              "      <td>location 5150</td>\n",
              "      <td>-16.1</td>\n",
              "      <td>NaN</td>\n",
              "      <td>290.0</td>\n",
              "      <td>-20.0</td>\n",
              "      <td>1028.9</td>\n",
              "      <td>NaN</td>\n",
              "      <td>6.2</td>\n",
              "    </tr>\n",
              "  </tbody>\n",
              "</table>\n",
              "<p>138825 rows × 9 columns</p>\n",
              "</div>"
            ],
            "text/plain": [
              "                  timestamp deidentified_location  ...  precipitation  wind_speed\n",
              "0       2017-01-01 00:00:00         location 7369  ...            NaN         3.6\n",
              "1       2017-01-01 01:00:00         location 7369  ...            0.0         3.1\n",
              "2       2017-01-01 02:00:00         location 7369  ...            0.0         3.1\n",
              "3       2017-01-01 03:00:00         location 7369  ...            0.0         3.1\n",
              "4       2017-01-01 04:00:00         location 7369  ...            0.0         2.6\n",
              "...                     ...                   ...  ...            ...         ...\n",
              "138820  2017-12-31 19:00:00         location 5150  ...           -1.0         5.1\n",
              "138821  2017-12-31 20:00:00         location 5150  ...           -1.0         6.2\n",
              "138822  2017-12-31 21:00:00         location 5150  ...           -1.0         6.7\n",
              "138823  2017-12-31 22:00:00         location 5150  ...            NaN         6.7\n",
              "138824  2017-12-31 23:00:00         location 5150  ...            NaN         6.2\n",
              "\n",
              "[138825 rows x 9 columns]"
            ]
          },
          "metadata": {
            "tags": []
          },
          "execution_count": 8
        }
      ]
    },
    {
      "cell_type": "code",
      "metadata": {
        "colab_type": "code",
        "id": "mqpD-BSFSRSa",
        "outputId": "3faefc4f-28e9-46d5-e0ac-c99b06ed7422",
        "colab": {
          "base_uri": "https://localhost:8080/",
          "height": 384
        }
      },
      "source": [
        "data3.head()"
      ],
      "execution_count": 0,
      "outputs": [
        {
          "output_type": "execute_result",
          "data": {
            "text/html": [
              "<div>\n",
              "<style scoped>\n",
              "    .dataframe tbody tr th:only-of-type {\n",
              "        vertical-align: middle;\n",
              "    }\n",
              "\n",
              "    .dataframe tbody tr th {\n",
              "        vertical-align: top;\n",
              "    }\n",
              "\n",
              "    .dataframe thead th {\n",
              "        text-align: right;\n",
              "    }\n",
              "</style>\n",
              "<table border=\"1\" class=\"dataframe\">\n",
              "  <thead>\n",
              "    <tr style=\"text-align: right;\">\n",
              "      <th></th>\n",
              "      <th>farm_id</th>\n",
              "      <th>operations_commencing_year</th>\n",
              "      <th>num_processing_plants</th>\n",
              "      <th>farm_area</th>\n",
              "      <th>farming_company</th>\n",
              "      <th>deidentified_location</th>\n",
              "      <th>date</th>\n",
              "      <th>ingredient_type</th>\n",
              "      <th>id</th>\n",
              "    </tr>\n",
              "  </thead>\n",
              "  <tbody>\n",
              "    <tr>\n",
              "      <th>0</th>\n",
              "      <td>fid_110884</td>\n",
              "      <td>2008.0</td>\n",
              "      <td>NaN</td>\n",
              "      <td>690.455096</td>\n",
              "      <td>Obery Farms</td>\n",
              "      <td>location 7369</td>\n",
              "      <td>2017-01-01 00:00:00</td>\n",
              "      <td>ing_w</td>\n",
              "      <td>0</td>\n",
              "    </tr>\n",
              "    <tr>\n",
              "      <th>1</th>\n",
              "      <td>fid_110884</td>\n",
              "      <td>2008.0</td>\n",
              "      <td>NaN</td>\n",
              "      <td>690.455096</td>\n",
              "      <td>Obery Farms</td>\n",
              "      <td>location 7369</td>\n",
              "      <td>2017-01-01 01:00:00</td>\n",
              "      <td>ing_w</td>\n",
              "      <td>129</td>\n",
              "    </tr>\n",
              "    <tr>\n",
              "      <th>2</th>\n",
              "      <td>fid_110884</td>\n",
              "      <td>2008.0</td>\n",
              "      <td>NaN</td>\n",
              "      <td>690.455096</td>\n",
              "      <td>Obery Farms</td>\n",
              "      <td>location 7369</td>\n",
              "      <td>2017-01-01 02:00:00</td>\n",
              "      <td>ing_w</td>\n",
              "      <td>258</td>\n",
              "    </tr>\n",
              "    <tr>\n",
              "      <th>3</th>\n",
              "      <td>fid_110884</td>\n",
              "      <td>2008.0</td>\n",
              "      <td>NaN</td>\n",
              "      <td>690.455096</td>\n",
              "      <td>Obery Farms</td>\n",
              "      <td>location 7369</td>\n",
              "      <td>2017-01-01 03:00:00</td>\n",
              "      <td>ing_w</td>\n",
              "      <td>387</td>\n",
              "    </tr>\n",
              "    <tr>\n",
              "      <th>4</th>\n",
              "      <td>fid_110884</td>\n",
              "      <td>2008.0</td>\n",
              "      <td>NaN</td>\n",
              "      <td>690.455096</td>\n",
              "      <td>Obery Farms</td>\n",
              "      <td>location 7369</td>\n",
              "      <td>2017-01-01 04:00:00</td>\n",
              "      <td>ing_w</td>\n",
              "      <td>516</td>\n",
              "    </tr>\n",
              "  </tbody>\n",
              "</table>\n",
              "</div>"
            ],
            "text/plain": [
              "      farm_id  operations_commencing_year  ...  ingredient_type   id\n",
              "0  fid_110884                      2008.0  ...            ing_w    0\n",
              "1  fid_110884                      2008.0  ...            ing_w  129\n",
              "2  fid_110884                      2008.0  ...            ing_w  258\n",
              "3  fid_110884                      2008.0  ...            ing_w  387\n",
              "4  fid_110884                      2008.0  ...            ing_w  516\n",
              "\n",
              "[5 rows x 9 columns]"
            ]
          },
          "metadata": {
            "tags": []
          },
          "execution_count": 9
        }
      ]
    },
    {
      "cell_type": "markdown",
      "metadata": {
        "colab_type": "text",
        "id": "IVFC6by_Ka-B"
      },
      "source": [
        "## <center>Renaming the columns names</center>"
      ]
    },
    {
      "cell_type": "code",
      "metadata": {
        "colab_type": "code",
        "id": "OUVkA6XCJUmi",
        "colab": {}
      },
      "source": [
        "data3 = data3.rename(columns = {'date':'timestamp'})"
      ],
      "execution_count": 0,
      "outputs": []
    },
    {
      "cell_type": "code",
      "metadata": {
        "colab_type": "code",
        "id": "9Jmzj6dBMoMk",
        "colab": {}
      },
      "source": [
        "test1 = pd.merge(data3,test_weather,how='left',on= ['timestamp','deidentified_location'])"
      ],
      "execution_count": 0,
      "outputs": []
    },
    {
      "cell_type": "code",
      "metadata": {
        "colab_type": "code",
        "id": "sgLteWL8SQLi",
        "outputId": "97053a2e-6a46-467e-cdea-dd47eda8279e",
        "colab": {
          "base_uri": "https://localhost:8080/",
          "height": 384
        }
      },
      "source": [
        "test1.head()"
      ],
      "execution_count": 0,
      "outputs": [
        {
          "output_type": "execute_result",
          "data": {
            "text/html": [
              "<div>\n",
              "<style scoped>\n",
              "    .dataframe tbody tr th:only-of-type {\n",
              "        vertical-align: middle;\n",
              "    }\n",
              "\n",
              "    .dataframe tbody tr th {\n",
              "        vertical-align: top;\n",
              "    }\n",
              "\n",
              "    .dataframe thead th {\n",
              "        text-align: right;\n",
              "    }\n",
              "</style>\n",
              "<table border=\"1\" class=\"dataframe\">\n",
              "  <thead>\n",
              "    <tr style=\"text-align: right;\">\n",
              "      <th></th>\n",
              "      <th>farm_id</th>\n",
              "      <th>operations_commencing_year</th>\n",
              "      <th>num_processing_plants</th>\n",
              "      <th>farm_area</th>\n",
              "      <th>farming_company</th>\n",
              "      <th>deidentified_location</th>\n",
              "      <th>timestamp</th>\n",
              "      <th>ingredient_type</th>\n",
              "      <th>id</th>\n",
              "      <th>temp_obs</th>\n",
              "      <th>cloudiness</th>\n",
              "      <th>wind_direction</th>\n",
              "      <th>dew_temp</th>\n",
              "      <th>pressure_sea_level</th>\n",
              "      <th>precipitation</th>\n",
              "      <th>wind_speed</th>\n",
              "    </tr>\n",
              "  </thead>\n",
              "  <tbody>\n",
              "    <tr>\n",
              "      <th>0</th>\n",
              "      <td>fid_110884</td>\n",
              "      <td>2008.0</td>\n",
              "      <td>NaN</td>\n",
              "      <td>690.455096</td>\n",
              "      <td>Obery Farms</td>\n",
              "      <td>location 7369</td>\n",
              "      <td>2017-01-01 00:00:00</td>\n",
              "      <td>ing_w</td>\n",
              "      <td>0</td>\n",
              "      <td>17.8</td>\n",
              "      <td>4.0</td>\n",
              "      <td>100.0</td>\n",
              "      <td>11.7</td>\n",
              "      <td>1021.4</td>\n",
              "      <td>NaN</td>\n",
              "      <td>3.6</td>\n",
              "    </tr>\n",
              "    <tr>\n",
              "      <th>1</th>\n",
              "      <td>fid_110884</td>\n",
              "      <td>2008.0</td>\n",
              "      <td>NaN</td>\n",
              "      <td>690.455096</td>\n",
              "      <td>Obery Farms</td>\n",
              "      <td>location 7369</td>\n",
              "      <td>2017-01-01 01:00:00</td>\n",
              "      <td>ing_w</td>\n",
              "      <td>129</td>\n",
              "      <td>17.8</td>\n",
              "      <td>2.0</td>\n",
              "      <td>130.0</td>\n",
              "      <td>12.8</td>\n",
              "      <td>1022.0</td>\n",
              "      <td>0.0</td>\n",
              "      <td>3.1</td>\n",
              "    </tr>\n",
              "    <tr>\n",
              "      <th>2</th>\n",
              "      <td>fid_110884</td>\n",
              "      <td>2008.0</td>\n",
              "      <td>NaN</td>\n",
              "      <td>690.455096</td>\n",
              "      <td>Obery Farms</td>\n",
              "      <td>location 7369</td>\n",
              "      <td>2017-01-01 02:00:00</td>\n",
              "      <td>ing_w</td>\n",
              "      <td>258</td>\n",
              "      <td>16.1</td>\n",
              "      <td>0.0</td>\n",
              "      <td>140.0</td>\n",
              "      <td>12.8</td>\n",
              "      <td>1021.9</td>\n",
              "      <td>0.0</td>\n",
              "      <td>3.1</td>\n",
              "    </tr>\n",
              "    <tr>\n",
              "      <th>3</th>\n",
              "      <td>fid_110884</td>\n",
              "      <td>2008.0</td>\n",
              "      <td>NaN</td>\n",
              "      <td>690.455096</td>\n",
              "      <td>Obery Farms</td>\n",
              "      <td>location 7369</td>\n",
              "      <td>2017-01-01 03:00:00</td>\n",
              "      <td>ing_w</td>\n",
              "      <td>387</td>\n",
              "      <td>17.2</td>\n",
              "      <td>0.0</td>\n",
              "      <td>140.0</td>\n",
              "      <td>13.3</td>\n",
              "      <td>1022.2</td>\n",
              "      <td>0.0</td>\n",
              "      <td>3.1</td>\n",
              "    </tr>\n",
              "    <tr>\n",
              "      <th>4</th>\n",
              "      <td>fid_110884</td>\n",
              "      <td>2008.0</td>\n",
              "      <td>NaN</td>\n",
              "      <td>690.455096</td>\n",
              "      <td>Obery Farms</td>\n",
              "      <td>location 7369</td>\n",
              "      <td>2017-01-01 04:00:00</td>\n",
              "      <td>ing_w</td>\n",
              "      <td>516</td>\n",
              "      <td>16.7</td>\n",
              "      <td>2.0</td>\n",
              "      <td>130.0</td>\n",
              "      <td>13.3</td>\n",
              "      <td>1022.3</td>\n",
              "      <td>0.0</td>\n",
              "      <td>2.6</td>\n",
              "    </tr>\n",
              "  </tbody>\n",
              "</table>\n",
              "</div>"
            ],
            "text/plain": [
              "      farm_id  operations_commencing_year  ...  precipitation  wind_speed\n",
              "0  fid_110884                      2008.0  ...            NaN         3.6\n",
              "1  fid_110884                      2008.0  ...            0.0         3.1\n",
              "2  fid_110884                      2008.0  ...            0.0         3.1\n",
              "3  fid_110884                      2008.0  ...            0.0         3.1\n",
              "4  fid_110884                      2008.0  ...            0.0         2.6\n",
              "\n",
              "[5 rows x 16 columns]"
            ]
          },
          "metadata": {
            "tags": []
          },
          "execution_count": 12
        }
      ]
    },
    {
      "cell_type": "code",
      "metadata": {
        "colab_type": "code",
        "id": "boqMUOnLLutf",
        "colab": {}
      },
      "source": [
        ""
      ],
      "execution_count": 0,
      "outputs": []
    },
    {
      "cell_type": "code",
      "metadata": {
        "colab_type": "code",
        "id": "Av7ivbZEK1Ok",
        "colab": {}
      },
      "source": [
        "data_new = pd.merge(train_data,farm_data.rename(columns={'farm_id':'farm_id'}),on='farm_id',how='left')"
      ],
      "execution_count": 0,
      "outputs": []
    },
    {
      "cell_type": "code",
      "metadata": {
        "colab_type": "code",
        "id": "t9FbCZgtLJJn",
        "outputId": "5be0dcc8-e320-4bd2-9402-f12d896cb183",
        "colab": {
          "base_uri": "https://localhost:8080/",
          "height": 760
        }
      },
      "source": [
        "data_new"
      ],
      "execution_count": 0,
      "outputs": [
        {
          "output_type": "execute_result",
          "data": {
            "text/html": [
              "<div>\n",
              "<style scoped>\n",
              "    .dataframe tbody tr th:only-of-type {\n",
              "        vertical-align: middle;\n",
              "    }\n",
              "\n",
              "    .dataframe tbody tr th {\n",
              "        vertical-align: top;\n",
              "    }\n",
              "\n",
              "    .dataframe thead th {\n",
              "        text-align: right;\n",
              "    }\n",
              "</style>\n",
              "<table border=\"1\" class=\"dataframe\">\n",
              "  <thead>\n",
              "    <tr style=\"text-align: right;\">\n",
              "      <th></th>\n",
              "      <th>date</th>\n",
              "      <th>farm_id</th>\n",
              "      <th>ingredient_type</th>\n",
              "      <th>yield</th>\n",
              "      <th>operations_commencing_year</th>\n",
              "      <th>num_processing_plants</th>\n",
              "      <th>farm_area</th>\n",
              "      <th>farming_company</th>\n",
              "      <th>deidentified_location</th>\n",
              "    </tr>\n",
              "  </thead>\n",
              "  <tbody>\n",
              "    <tr>\n",
              "      <td>0</td>\n",
              "      <td>2016-01-01 00:00:00</td>\n",
              "      <td>fid_110884</td>\n",
              "      <td>ing_w</td>\n",
              "      <td>0.000</td>\n",
              "      <td>2008.0</td>\n",
              "      <td>NaN</td>\n",
              "      <td>690.455096</td>\n",
              "      <td>Obery Farms</td>\n",
              "      <td>location 7369</td>\n",
              "    </tr>\n",
              "    <tr>\n",
              "      <td>1</td>\n",
              "      <td>2016-01-01 00:00:00</td>\n",
              "      <td>fid_90053</td>\n",
              "      <td>ing_w</td>\n",
              "      <td>0.000</td>\n",
              "      <td>2004.0</td>\n",
              "      <td>NaN</td>\n",
              "      <td>252.696160</td>\n",
              "      <td>Obery Farms</td>\n",
              "      <td>location 7369</td>\n",
              "    </tr>\n",
              "    <tr>\n",
              "      <td>2</td>\n",
              "      <td>2016-01-01 00:00:00</td>\n",
              "      <td>fid_17537</td>\n",
              "      <td>ing_w</td>\n",
              "      <td>0.000</td>\n",
              "      <td>1991.0</td>\n",
              "      <td>NaN</td>\n",
              "      <td>499.446528</td>\n",
              "      <td>Obery Farms</td>\n",
              "      <td>location 7369</td>\n",
              "    </tr>\n",
              "    <tr>\n",
              "      <td>3</td>\n",
              "      <td>2016-01-01 00:00:00</td>\n",
              "      <td>fid_110392</td>\n",
              "      <td>ing_w</td>\n",
              "      <td>0.000</td>\n",
              "      <td>2002.0</td>\n",
              "      <td>NaN</td>\n",
              "      <td>2200.407555</td>\n",
              "      <td>Obery Farms</td>\n",
              "      <td>location 7369</td>\n",
              "    </tr>\n",
              "    <tr>\n",
              "      <td>4</td>\n",
              "      <td>2016-01-01 00:00:00</td>\n",
              "      <td>fid_62402</td>\n",
              "      <td>ing_w</td>\n",
              "      <td>0.000</td>\n",
              "      <td>1975.0</td>\n",
              "      <td>NaN</td>\n",
              "      <td>10833.140121</td>\n",
              "      <td>Obery Farms</td>\n",
              "      <td>location 7369</td>\n",
              "    </tr>\n",
              "    <tr>\n",
              "      <td>...</td>\n",
              "      <td>...</td>\n",
              "      <td>...</td>\n",
              "      <td>...</td>\n",
              "      <td>...</td>\n",
              "      <td>...</td>\n",
              "      <td>...</td>\n",
              "      <td>...</td>\n",
              "      <td>...</td>\n",
              "      <td>...</td>\n",
              "    </tr>\n",
              "    <tr>\n",
              "      <td>20216095</td>\n",
              "      <td>2016-12-31 23:00:00</td>\n",
              "      <td>fid_41664</td>\n",
              "      <td>ing_w</td>\n",
              "      <td>8.750</td>\n",
              "      <td>1914.0</td>\n",
              "      <td>NaN</td>\n",
              "      <td>1822.663957</td>\n",
              "      <td>Sanderson Farms</td>\n",
              "      <td>location 5150</td>\n",
              "    </tr>\n",
              "    <tr>\n",
              "      <td>20216096</td>\n",
              "      <td>2016-12-31 23:00:00</td>\n",
              "      <td>fid_14529</td>\n",
              "      <td>ing_w</td>\n",
              "      <td>4.825</td>\n",
              "      <td>NaN</td>\n",
              "      <td>NaN</td>\n",
              "      <td>399.297094</td>\n",
              "      <td>Obery Farms</td>\n",
              "      <td>location 5150</td>\n",
              "    </tr>\n",
              "    <tr>\n",
              "      <td>20216097</td>\n",
              "      <td>2016-12-31 23:00:00</td>\n",
              "      <td>fid_46454</td>\n",
              "      <td>ing_w</td>\n",
              "      <td>0.000</td>\n",
              "      <td>1997.0</td>\n",
              "      <td>NaN</td>\n",
              "      <td>1046.552295</td>\n",
              "      <td>Sanderson Farms</td>\n",
              "      <td>location 5150</td>\n",
              "    </tr>\n",
              "    <tr>\n",
              "      <td>20216098</td>\n",
              "      <td>2016-12-31 23:00:00</td>\n",
              "      <td>fid_24103</td>\n",
              "      <td>ing_w</td>\n",
              "      <td>159.575</td>\n",
              "      <td>2001.0</td>\n",
              "      <td>NaN</td>\n",
              "      <td>2766.186825</td>\n",
              "      <td>Dole Food Company</td>\n",
              "      <td>location 5150</td>\n",
              "    </tr>\n",
              "    <tr>\n",
              "      <td>20216099</td>\n",
              "      <td>2016-12-31 23:00:00</td>\n",
              "      <td>fid_34139</td>\n",
              "      <td>ing_w</td>\n",
              "      <td>2.850</td>\n",
              "      <td>2001.0</td>\n",
              "      <td>NaN</td>\n",
              "      <td>8572.252713</td>\n",
              "      <td>Wayne Farms</td>\n",
              "      <td>location 5150</td>\n",
              "    </tr>\n",
              "  </tbody>\n",
              "</table>\n",
              "<p>20216100 rows × 9 columns</p>\n",
              "</div>"
            ],
            "text/plain": [
              "                         date     farm_id ingredient_type    yield  \\\n",
              "0         2016-01-01 00:00:00  fid_110884           ing_w    0.000   \n",
              "1         2016-01-01 00:00:00   fid_90053           ing_w    0.000   \n",
              "2         2016-01-01 00:00:00   fid_17537           ing_w    0.000   \n",
              "3         2016-01-01 00:00:00  fid_110392           ing_w    0.000   \n",
              "4         2016-01-01 00:00:00   fid_62402           ing_w    0.000   \n",
              "...                       ...         ...             ...      ...   \n",
              "20216095  2016-12-31 23:00:00   fid_41664           ing_w    8.750   \n",
              "20216096  2016-12-31 23:00:00   fid_14529           ing_w    4.825   \n",
              "20216097  2016-12-31 23:00:00   fid_46454           ing_w    0.000   \n",
              "20216098  2016-12-31 23:00:00   fid_24103           ing_w  159.575   \n",
              "20216099  2016-12-31 23:00:00   fid_34139           ing_w    2.850   \n",
              "\n",
              "          operations_commencing_year  num_processing_plants     farm_area  \\\n",
              "0                             2008.0                    NaN    690.455096   \n",
              "1                             2004.0                    NaN    252.696160   \n",
              "2                             1991.0                    NaN    499.446528   \n",
              "3                             2002.0                    NaN   2200.407555   \n",
              "4                             1975.0                    NaN  10833.140121   \n",
              "...                              ...                    ...           ...   \n",
              "20216095                      1914.0                    NaN   1822.663957   \n",
              "20216096                         NaN                    NaN    399.297094   \n",
              "20216097                      1997.0                    NaN   1046.552295   \n",
              "20216098                      2001.0                    NaN   2766.186825   \n",
              "20216099                      2001.0                    NaN   8572.252713   \n",
              "\n",
              "            farming_company deidentified_location  \n",
              "0               Obery Farms         location 7369  \n",
              "1               Obery Farms         location 7369  \n",
              "2               Obery Farms         location 7369  \n",
              "3               Obery Farms         location 7369  \n",
              "4               Obery Farms         location 7369  \n",
              "...                     ...                   ...  \n",
              "20216095    Sanderson Farms         location 5150  \n",
              "20216096        Obery Farms         location 5150  \n",
              "20216097    Sanderson Farms         location 5150  \n",
              "20216098  Dole Food Company         location 5150  \n",
              "20216099        Wayne Farms         location 5150  \n",
              "\n",
              "[20216100 rows x 9 columns]"
            ]
          },
          "metadata": {
            "tags": []
          },
          "execution_count": 11
        }
      ]
    },
    {
      "cell_type": "code",
      "metadata": {
        "colab_type": "code",
        "id": "9GuRaxfCLG3t",
        "colab": {}
      },
      "source": [
        "data_new = data_new.rename(columns = {'date':'timestamp'})"
      ],
      "execution_count": 0,
      "outputs": []
    },
    {
      "cell_type": "code",
      "metadata": {
        "colab_type": "code",
        "id": "N7TwgzYgLXZ8",
        "colab": {}
      },
      "source": [
        "Train_final = pd.merge(data_new,weather_data,how = 'left')"
      ],
      "execution_count": 0,
      "outputs": []
    },
    {
      "cell_type": "code",
      "metadata": {
        "colab_type": "code",
        "id": "_X5METE62-8f",
        "colab": {}
      },
      "source": [
        "# checking the percentage of null values in the columns"
      ],
      "execution_count": 0,
      "outputs": []
    },
    {
      "cell_type": "code",
      "metadata": {
        "colab_type": "code",
        "id": "WnM9JAcoLwPx",
        "outputId": "0bf67a56-1094-4a01-b160-1ee135618722",
        "colab": {
          "base_uri": "https://localhost:8080/",
          "height": 496
        }
      },
      "source": [
        "# checking the percentage of null values in the columns\n",
        "((Train_final.isnull().sum())/Train_final.shape[0]).plot(kind = 'bar',figsize=(20,5))"
      ],
      "execution_count": 0,
      "outputs": [
        {
          "output_type": "execute_result",
          "data": {
            "text/plain": [
              "<matplotlib.axes._subplots.AxesSubplot at 0x1980143e208>"
            ]
          },
          "metadata": {
            "tags": []
          },
          "execution_count": 13
        },
        {
          "output_type": "display_data",
          "data": {
            "image/png": "[encoded data removed]",
            "text/plain": [
              "<Figure size 1440x360 with 1 Axes>"
            ]
          },
          "metadata": {
            "tags": []
          }
        }
      ]
    },
    {
      "cell_type": "code",
      "metadata": {
        "colab_type": "code",
        "id": "Hg2IvqjP9-Bv",
        "outputId": "0e2f1bee-4e98-43e5-8c06-36e8c8418634",
        "colab": {
          "base_uri": "https://localhost:8080/",
          "height": 496
        }
      },
      "source": [
        "#checking the percentage of null values in the columns\n",
        "((test1.isnull().sum())/test1.shape[0]).plot(kind = 'bar',figsize=(20,5))"
      ],
      "execution_count": 0,
      "outputs": [
        {
          "output_type": "execute_result",
          "data": {
            "text/plain": [
              "<matplotlib.axes._subplots.AxesSubplot at 0x13d80f7ce80>"
            ]
          },
          "metadata": {
            "tags": []
          },
          "execution_count": 14
        },
        {
          "output_type": "display_data",
          "data": {
            "image/png": "[encoded data removed]",
            "text/plain": [
              "<Figure size 1440x360 with 1 Axes>"
            ]
          },
          "metadata": {
            "tags": []
          }
        }
      ]
    },
    {
      "cell_type": "code",
      "metadata": {
        "colab_type": "code",
        "id": "Ji3p03wFL5vI",
        "outputId": "639cea40-b789-45e0-a32b-60b0b474ac06",
        "colab": {
          "base_uri": "https://localhost:8080/",
          "height": 318
        }
      },
      "source": [
        "new_data2.isnull().sum()"
      ],
      "execution_count": 0,
      "outputs": [
        {
          "output_type": "execute_result",
          "data": {
            "text/plain": [
              "timestamp                            0\n",
              "farm_id                              0\n",
              "ingredient_type                      0\n",
              "yield                                0\n",
              "operations_commencing_year    12171967\n",
              "num_processing_plants         16726426\n",
              "farm_area                            0\n",
              "farming_company                      0\n",
              "deidentified_location                0\n",
              "temp_obs                         97260\n",
              "cloudiness                     8827339\n",
              "wind_direction                 1454866\n",
              "dew_temp                        100747\n",
              "pressure_sea_level             1216127\n",
              "precipitation                  3755342\n",
              "wind_speed                      144523\n",
              "dtype: int64"
            ]
          },
          "metadata": {
            "tags": []
          },
          "execution_count": 20
        }
      ]
    },
    {
      "cell_type": "code",
      "metadata": {
        "colab_type": "code",
        "id": "gB5KNrNSMD0e",
        "outputId": "f3e472b2-694c-466b-881a-5ee75c15c346",
        "colab": {
          "base_uri": "https://localhost:8080/",
          "height": 318
        }
      },
      "source": [
        "test1.isnull().sum()"
      ],
      "execution_count": 0,
      "outputs": [
        {
          "output_type": "execute_result",
          "data": {
            "text/plain": [
              "farm_id                              0\n",
              "operations_commencing_year    12342840\n",
              "num_processing_plants         17239680\n",
              "farm_area                            0\n",
              "farming_company                      0\n",
              "deidentified_location                0\n",
              "timestamp                            0\n",
              "ingredient_type                      0\n",
              "id                                   0\n",
              "temp_obs                        107840\n",
              "cloudiness                     9465324\n",
              "wind_direction                 1468993\n",
              "dew_temp                        138227\n",
              "pressure_sea_level             1277044\n",
              "precipitation                  3866790\n",
              "wind_speed                      153378\n",
              "dtype: int64"
            ]
          },
          "metadata": {
            "tags": []
          },
          "execution_count": 21
        }
      ]
    },
    {
      "cell_type": "code",
      "metadata": {
        "colab_type": "code",
        "id": "NCuQe3lH9ZUD",
        "colab": {}
      },
      "source": [
        "# import matplotlib.pyplot as plt\n",
        "import pandas as pd\n",
        "import numpy as np\n",
        "import seaborn as sns"
      ],
      "execution_count": 0,
      "outputs": []
    },
    {
      "cell_type": "code",
      "metadata": {
        "colab_type": "code",
        "id": "KFN9k0DF9glo",
        "colab": {}
      },
      "source": [
        "## <center>Imputing the Null Values</center>"
      ],
      "execution_count": 0,
      "outputs": []
    },
    {
      "cell_type": "code",
      "metadata": {
        "colab_type": "code",
        "id": "PtMXSYDgNndy",
        "colab": {}
      },
      "source": [
        "Train_final['cloudiness'] =Train_final['cloudiness'].interpolate(method ='linear', limit_direction ='both')\n",
        "Train_final['wind_direction'] =Train_final['wind_direction'].interpolate(method ='linear', limit_direction ='both')\n",
        "Train_final['dew_temp'] =Train_final['dew_temp'].interpolate(method ='linear', limit_direction ='both')\n",
        "Train_final['precipitation'] =Train_final['precipitation'].interpolate(method ='linear', limit_direction ='both')\n",
        "Train_final['pressure_sea_level'] =Train_final['pressure_sea_level'].interpolate(method = 'linear',limit_direction = 'both')\n",
        "Train_final['wind_speed'] =Train_final['wind_speed'].interpolate(method = 'linear', limit_direction = 'both')\n",
        "Train_final['temp_obs'] =Train_final['temp_obs'].interpolate(method = 'linear', limit_direction = 'both')"
      ],
      "execution_count": 0,
      "outputs": []
    },
    {
      "cell_type": "code",
      "metadata": {
        "colab_type": "code",
        "id": "uGbAlveYNy0d",
        "colab": {}
      },
      "source": [
        "test1['cloudiness'] =test1['cloudiness'].interpolate(method ='linear', limit_direction ='both')\n",
        "test1['wind_direction'] =test1['wind_direction'].interpolate(method ='linear', limit_direction ='both')\n",
        "test1['dew_temp'] =test1['dew_temp'].interpolate(method ='linear', limit_direction ='both')\n",
        "test1['precipitation'] =test1['precipitation'].interpolate(method ='linear', limit_direction ='both')\n",
        "test1['pressure_sea_level'] =test1['pressure_sea_level'].interpolate(method = 'linear',limit_direction = 'both')\n",
        "test1['wind_speed'] =test1['wind_speed'].interpolate(method = 'linear', limit_direction = 'both')\n",
        "test1['temp_obs'] =test1['temp_obs'].interpolate(method = 'linear', limit_direction = 'both')"
      ],
      "execution_count": 0,
      "outputs": []
    },
    {
      "cell_type": "code",
      "metadata": {
        "colab_type": "code",
        "id": "Q1n0I0u2NwSU",
        "outputId": "a351081a-e539-430f-810f-93958a76d215",
        "colab": {
          "base_uri": "https://localhost:8080/",
          "height": 123
        }
      },
      "source": [
        "Train_final.columns"
      ],
      "execution_count": 0,
      "outputs": [
        {
          "output_type": "execute_result",
          "data": {
            "text/plain": [
              "Index(['timestamp', 'farm_id', 'ingredient_type', 'yield',\n",
              "       'operations_commencing_year', 'num_processing_plants', 'farm_area',\n",
              "       'farming_company', 'deidentified_location', 'temp_obs', 'cloudiness',\n",
              "       'wind_direction', 'dew_temp', 'pressure_sea_level', 'precipitation',\n",
              "       'wind_speed'],\n",
              "      dtype='object')"
            ]
          },
          "metadata": {
            "tags": []
          },
          "execution_count": 19
        }
      ]
    },
    {
      "cell_type": "code",
      "metadata": {
        "colab_type": "code",
        "id": "VRTPSYMaOqWu",
        "outputId": "bccdcc12-b55a-410a-af2f-3605bfecebb3",
        "colab": {
          "base_uri": "https://localhost:8080/",
          "height": 318
        }
      },
      "source": [
        "test1.isnull().sum()"
      ],
      "execution_count": 0,
      "outputs": [
        {
          "output_type": "execute_result",
          "data": {
            "text/plain": [
              "farm_id                              0\n",
              "operations_commencing_year    12342840\n",
              "num_processing_plants         17239680\n",
              "farm_area                            0\n",
              "farming_company                      0\n",
              "deidentified_location                0\n",
              "timestamp                            0\n",
              "ingredient_type                      0\n",
              "id                                   0\n",
              "temp_obs                             0\n",
              "cloudiness                           0\n",
              "wind_direction                       0\n",
              "dew_temp                             0\n",
              "pressure_sea_level                   0\n",
              "precipitation                        0\n",
              "wind_speed                           0\n",
              "dtype: int64"
            ]
          },
          "metadata": {
            "tags": []
          },
          "execution_count": 25
        }
      ]
    },
    {
      "cell_type": "code",
      "metadata": {
        "colab_type": "code",
        "id": "WsJKb8pjjH5A",
        "colab": {}
      },
      "source": [
        "from scipy import stats\n",
        "import numpy as np\n",
        "z = np.abs(stats.zscore(Train_final[\"yield\"]))\n",
        "\n",
        "\n",
        "Train_final1 = Train_final[(z < 1.96)]"
      ],
      "execution_count": 0,
      "outputs": []
    },
    {
      "cell_type": "markdown",
      "metadata": {
        "id": "fOItDFkZ53Q_",
        "colab_type": "text"
      },
      "source": [
        "# # Dropping the columns because it has high Null Values##"
      ]
    },
    {
      "cell_type": "code",
      "metadata": {
        "colab_type": "code",
        "id": "kFIf7Uwh3Ar9",
        "colab": {}
      },
      "source": [
        "#dropping the column because it as high null values\n",
        "\n",
        "Train_final1 =Train_final.drop([\"operations_commencing_year\"],axis = 1) \n",
        "\n",
        "Train_final1 =Train_final1.drop([\"num_processing_plants\"],axis = 1) "
      ],
      "execution_count": 0,
      "outputs": []
    },
    {
      "cell_type": "code",
      "metadata": {
        "colab_type": "code",
        "id": "lnDQ7Id4kVd0",
        "colab": {}
      },
      "source": [
        "\n",
        "test1 =test1.drop([\"operations_commencing_year\"],axis = 1) \n",
        "\n",
        "test1 =test1.drop([\"num_processing_plants\"],axis = 1) "
      ],
      "execution_count": 0,
      "outputs": []
    },
    {
      "cell_type": "code",
      "metadata": {
        "colab_type": "code",
        "id": "Dh9FuoUj-lxu",
        "colab": {}
      },
      "source": [
        "import matplotlib.pyplot as plt\n",
        "import pandas as pd\n",
        "import numpy as np\n",
        "import seaborn as sns"
      ],
      "execution_count": 0,
      "outputs": []
    },
    {
      "cell_type": "markdown",
      "metadata": {
        "colab_type": "text",
        "id": "Yqa38cFOKQiu"
      },
      "source": [
        ""
      ]
    },
    {
      "cell_type": "code",
      "metadata": {
        "colab_type": "code",
        "id": "g6KfV1VVKRAf",
        "outputId": "7a1197f2-f388-4897-cece-04306f170b64",
        "colab": {
          "base_uri": "https://localhost:8080/",
          "height": 970
        }
      },
      "source": [
        "cormat = Train_final1.corr()\n",
        "\n",
        "f , ax = plt.subplots(figsize=(15,15))\n",
        "sns.heatmap(cormat,ax=ax,cmap=\"YlGnBu\" ,linewidths=0.5,annot=True)"
      ],
      "execution_count": 0,
      "outputs": [
        {
          "output_type": "execute_result",
          "data": {
            "text/plain": [
              "<matplotlib.axes._subplots.AxesSubplot at 0x7fab8bd49ac8>"
            ]
          },
          "metadata": {
            "tags": []
          },
          "execution_count": 26
        },
        {
          "output_type": "display_data",
          "data": {
            "image/png": "[encoded data removed]",
            "text/plain": [
              "<Figure size 1080x1080 with 2 Axes>"
            ]
          },
          "metadata": {
            "tags": []
          }
        }
      ]
    },
    {
      "cell_type": "code",
      "metadata": {
        "colab_type": "code",
        "id": "V__src0xKXyw",
        "colab": {}
      },
      "source": [
        "# <center>Extracting the Features</center>"
      ],
      "execution_count": 0,
      "outputs": []
    },
    {
      "cell_type": "code",
      "metadata": {
        "colab_type": "code",
        "id": "1ZiFofLvCzwq",
        "colab": {}
      },
      "source": [
        "Train_final1['timestamp'] = Train_final1['timestamp'].astype(\"datetime64[ns]\")"
      ],
      "execution_count": 0,
      "outputs": []
    },
    {
      "cell_type": "code",
      "metadata": {
        "colab_type": "code",
        "id": "mBTH-bIAH2R1",
        "colab": {}
      },
      "source": [
        "test1['timestamp'] = test1['timestamp'].astype(\"datetime64[ns]\")"
      ],
      "execution_count": 0,
      "outputs": []
    },
    {
      "cell_type": "code",
      "metadata": {
        "colab_type": "code",
        "id": "wbS4jVLoJ4Hb",
        "colab": {}
      },
      "source": [
        "Train_final1[\"day\"]=pd.DatetimeIndex(Train_final1[\"timestamp\"]).day\n",
        "Train_final1[\"week\"]=pd.DatetimeIndex(Train_final1[\"timestamp\"]).week\n",
        "Train_final1[\"month\"]=pd.DatetimeIndex(Train_final1[\"timestamp\"]).month\n",
        "Train_final1[\"hour\"]=pd.DatetimeIndex(Train_final1[\"timestamp\"]).hour"
      ],
      "execution_count": 0,
      "outputs": []
    },
    {
      "cell_type": "code",
      "metadata": {
        "colab_type": "code",
        "id": "U2x1hNxXKY0q",
        "colab": {}
      },
      "source": [
        "test1[\"day\"]=pd.DatetimeIndex(test1[\"timestamp\"]).day\n",
        "test1[\"week\"]=pd.DatetimeIndex(test1[\"timestamp\"]).week\n",
        "test1[\"month\"]=pd.DatetimeIndex(test1[\"timestamp\"]).month\n",
        "test1[\"hour\"]=pd.DatetimeIndex(test1[\"timestamp\"]).hour"
      ],
      "execution_count": 0,
      "outputs": []
    },
    {
      "cell_type": "code",
      "metadata": {
        "colab_type": "code",
        "id": "XdJItcIeqiMz",
        "colab": {}
      },
      "source": [
        "Train_final1 =Train_final1.drop([\"timestamp\"],axis = 1) "
      ],
      "execution_count": 0,
      "outputs": []
    },
    {
      "cell_type": "code",
      "metadata": {
        "colab_type": "code",
        "id": "L1Qy8PkzLieF",
        "colab": {}
      },
      "source": [
        "test1 =test1.drop([\"timestamp\"],axis = 1) "
      ],
      "execution_count": 0,
      "outputs": []
    },
    {
      "cell_type": "markdown",
      "metadata": {
        "id": "JKP2NsbA53R3",
        "colab_type": "text"
      },
      "source": [
        "## <center> Exploratory Data Analysis</center>"
      ]
    },
    {
      "cell_type": "code",
      "metadata": {
        "colab_type": "code",
        "id": "sijgFOLq-bGW",
        "colab": {}
      },
      "source": [
        "import matplotlib.pyplot as plt\n",
        "import pandas as pd\n",
        "import numpy as np\n",
        "import seaborn as sns"
      ],
      "execution_count": 0,
      "outputs": []
    },
    {
      "cell_type": "code",
      "metadata": {
        "colab_type": "code",
        "id": "ziwYDFet-UUh",
        "outputId": "34f782ac-ea4f-42b6-c757-bcfade180e3e",
        "colab": {
          "base_uri": "https://localhost:8080/",
          "height": 372
        }
      },
      "source": [
        "plot1 = Train_final1.groupby(\"week\")[\"yield\"].mean()\n",
        "plot1.plot(x=\"week\",y=\"yield\",kind=\"line\",figsize=(20,5))"
      ],
      "execution_count": 0,
      "outputs": [
        {
          "output_type": "execute_result",
          "data": {
            "text/plain": [
              "<matplotlib.axes._subplots.AxesSubplot at 0x7f9a78f1fbe0>"
            ]
          },
          "metadata": {
            "tags": []
          },
          "execution_count": 25
        },
        {
          "output_type": "display_data",
          "data": {
            "image/png": "[encoded data removed]",
            "text/plain": [
              "<Figure size 1440x360 with 1 Axes>"
            ]
          },
          "metadata": {
            "tags": []
          }
        }
      ]
    },
    {
      "cell_type": "code",
      "metadata": {
        "id": "X6GBIe5K53SD",
        "colab_type": "code",
        "colab": {},
        "outputId": "1c2599d8-9a25-4512-d92f-9a6c412c997c"
      },
      "source": [
        "plot2 = Train_final1.groupby(\"month\")[\"yield\"].mean()\n",
        "plot2.plot(x=\"month\",y=\"yield\",kind=\"line\",figsize=(20,5))"
      ],
      "execution_count": 0,
      "outputs": [
        {
          "output_type": "execute_result",
          "data": {
            "text/plain": [
              "<matplotlib.axes._subplots.AxesSubplot at 0x13d835616d8>"
            ]
          },
          "metadata": {
            "tags": []
          },
          "execution_count": 30
        },
        {
          "output_type": "display_data",
          "data": {
            "image/png": "[encoded data removed]",
            "text/plain": [
              "<Figure size 1440x360 with 1 Axes>"
            ]
          },
          "metadata": {
            "tags": []
          }
        }
      ]
    },
    {
      "cell_type": "code",
      "metadata": {
        "id": "LSmKfygs53SG",
        "colab_type": "code",
        "colab": {},
        "outputId": "87cf0b75-d1f3-4627-d8ee-97e5b96c61c9"
      },
      "source": [
        "plot3 = Train_final1.groupby(\"day\")[\"yield\"].mean()\n",
        "plot3.plot(x=\"day\",y=\"yield\",kind=\"line\",figsize=(20,5))"
      ],
      "execution_count": 0,
      "outputs": [
        {
          "output_type": "execute_result",
          "data": {
            "text/plain": [
              "<matplotlib.axes._subplots.AxesSubplot at 0x13d835bb978>"
            ]
          },
          "metadata": {
            "tags": []
          },
          "execution_count": 32
        },
        {
          "output_type": "display_data",
          "data": {
            "image/png": "[encoded data removed]",
            "text/plain": [
              "<Figure size 1440x360 with 1 Axes>"
            ]
          },
          "metadata": {
            "tags": []
          }
        }
      ]
    },
    {
      "cell_type": "code",
      "metadata": {
        "id": "-yJNwpkT53SL",
        "colab_type": "code",
        "colab": {},
        "outputId": "3e442f3e-bba2-49b7-f50a-5741bb92d449"
      },
      "source": [
        "plot4 = Train_final1.groupby(\"deidentified_location\")[\"yield\"].mean()\n",
        "plot4.plot(x=\"deidentified_location\",y=\"yield\",kind=\"bar\",figsize=(20,5))"
      ],
      "execution_count": 0,
      "outputs": [
        {
          "output_type": "execute_result",
          "data": {
            "text/plain": [
              "<matplotlib.axes._subplots.AxesSubplot at 0x19803831400>"
            ]
          },
          "metadata": {
            "tags": []
          },
          "execution_count": 28
        },
        {
          "output_type": "display_data",
          "data": {
            "image/png": "[encoded data removed]",
            "text/plain": [
              "<Figure size 1440x360 with 1 Axes>"
            ]
          },
          "metadata": {
            "tags": []
          }
        }
      ]
    },
    {
      "cell_type": "code",
      "metadata": {
        "colab_type": "code",
        "id": "83obDY9l-czK",
        "outputId": "2e2df06e-f7eb-45b8-f176-cf5d2028d342",
        "colab": {
          "base_uri": "https://localhost:8080/",
          "height": 643
        }
      },
      "source": [
        "data =pd.DataFrame(Train_final1.groupby(['ingredient_type','farming_company'])['yield'].count())\n",
        "data=data.reset_index()\n",
        "plt.figure(figsize = (25,10))\n",
        "sns.barplot(x='farming_company',y='yield',data=data,hue='ingredient_type')"
      ],
      "execution_count": 0,
      "outputs": [
        {
          "output_type": "execute_result",
          "data": {
            "text/plain": [
              "<matplotlib.axes._subplots.AxesSubplot at 0x19803910eb8>"
            ]
          },
          "metadata": {
            "tags": []
          },
          "execution_count": 31
        },
        {
          "output_type": "display_data",
          "data": {
            "image/png": "[encoded data removed]",
            "text/plain": [
              "<Figure size 1800x720 with 1 Axes>"
            ]
          },
          "metadata": {
            "tags": []
          }
        }
      ]
    },
    {
      "cell_type": "code",
      "metadata": {
        "colab_type": "code",
        "id": "dThkcX_O-xMu",
        "outputId": "86cfc7fa-de97-4e4d-bc5c-71e250f8a997",
        "colab": {
          "base_uri": "https://localhost:8080/",
          "height": 548
        }
      },
      "source": [
        "plot3 = Train_final1.groupby(\"farming_company\")[\"yield\"].count()\n",
        "plot3.plot(x=\"farming_company\",y=\"yield\",kind=\"bar\",figsize=(20,5))"
      ],
      "execution_count": 0,
      "outputs": [
        {
          "output_type": "execute_result",
          "data": {
            "text/plain": [
              "<matplotlib.axes._subplots.AxesSubplot at 0x19803823860>"
            ]
          },
          "metadata": {
            "tags": []
          },
          "execution_count": 32
        },
        {
          "output_type": "display_data",
          "data": {
            "image/png": "[encoded data removed]",
            "text/plain": [
              "<Figure size 1440x360 with 1 Axes>"
            ]
          },
          "metadata": {
            "tags": []
          }
        }
      ]
    },
    {
      "cell_type": "code",
      "metadata": {
        "colab_type": "code",
        "id": "uJtG1wJl_C8D",
        "outputId": "6b429b13-a3db-4489-fbe1-946eaa9b7377",
        "colab": {
          "base_uri": "https://localhost:8080/",
          "height": 402
        }
      },
      "source": [
        "plot4 = Train_final1.groupby(\"ingredient_type\")[\"yield\"].count()\n",
        "plot4.plot(x=\"ingredient_type\",y=\"yield\",kind=\"bar\",figsize=(20,5))"
      ],
      "execution_count": 0,
      "outputs": [
        {
          "output_type": "execute_result",
          "data": {
            "text/plain": [
              "<matplotlib.axes._subplots.AxesSubplot at 0x7f9a78714f28>"
            ]
          },
          "metadata": {
            "tags": []
          },
          "execution_count": 29
        },
        {
          "output_type": "display_data",
          "data": {
            "image/png": "[encoded data removed]",
            "text/plain": [
              "<Figure size 1440x360 with 1 Axes>"
            ]
          },
          "metadata": {
            "tags": []
          }
        }
      ]
    },
    {
      "cell_type": "code",
      "metadata": {
        "colab_type": "code",
        "id": "uwdjw5Tc_dyy",
        "outputId": "2f231fb0-1f26-4f23-f525-1e393a3082e9",
        "colab": {
          "base_uri": "https://localhost:8080/",
          "height": 372
        }
      },
      "source": [
        "data2 = pd.DataFrame(Train_final1.groupby(['ingredient_type','deidentified_location'])['yield'].mean())\n",
        "data2=data2.reset_index()\n",
        "plt.figure(figsize = (20,5))\n",
        "sns.barplot(x='deidentified_location',y='yield',data=data2,hue='ingredient_type')"
      ],
      "execution_count": 0,
      "outputs": [
        {
          "output_type": "execute_result",
          "data": {
            "text/plain": [
              "<matplotlib.axes._subplots.AxesSubplot at 0x1c683a10f28>"
            ]
          },
          "metadata": {
            "tags": []
          },
          "execution_count": 22
        },
        {
          "output_type": "display_data",
          "data": {
            "image/png": "[encoded data removed]",
            "text/plain": [
              "<Figure size 1440x360 with 1 Axes>"
            ]
          },
          "metadata": {
            "tags": []
          }
        }
      ]
    },
    {
      "cell_type": "markdown",
      "metadata": {
        "id": "cyXBpxHe53Sh",
        "colab_type": "text"
      },
      "source": [
        "## <center>Creating dummies</center>"
      ]
    },
    {
      "cell_type": "code",
      "metadata": {
        "colab_type": "code",
        "id": "hHFlE4BjFfeZ",
        "colab": {}
      },
      "source": [
        "Train_final1 =  pd.get_dummies(Train_final1, columns=['ingredient_type'])"
      ],
      "execution_count": 0,
      "outputs": []
    },
    {
      "cell_type": "code",
      "metadata": {
        "colab_type": "code",
        "id": "DKe9zfeUJV8U",
        "colab": {}
      },
      "source": [
        "test1 =  pd.get_dummies(test1, columns=['ingredient_type'])"
      ],
      "execution_count": 0,
      "outputs": []
    },
    {
      "cell_type": "code",
      "metadata": {
        "colab_type": "code",
        "id": "kJ5OpqnmLRZZ",
        "outputId": "3ae78a7f-701b-4452-89ab-4b855b7b5b84",
        "colab": {
          "base_uri": "https://localhost:8080/",
          "height": 123
        }
      },
      "source": [
        "Train_final1.columns\n"
      ],
      "execution_count": 0,
      "outputs": [
        {
          "output_type": "execute_result",
          "data": {
            "text/plain": [
              "Index(['farm_id', 'yield', 'farm_area', 'farming_company',\n",
              "       'deidentified_location', 'temp_obs', 'cloudiness', 'wind_direction',\n",
              "       'dew_temp', 'pressure_sea_level', 'precipitation', 'wind_speed', 'day',\n",
              "       'week', 'hour', 'ingredient_type_ing_w', 'ingredient_type_ing_x',\n",
              "       'ingredient_type_ing_y', 'ingredient_type_ing_z'],\n",
              "      dtype='object')"
            ]
          },
          "metadata": {
            "tags": []
          },
          "execution_count": 35
        }
      ]
    },
    {
      "cell_type": "code",
      "metadata": {
        "colab_type": "code",
        "id": "SHuYUd78LU7O",
        "outputId": "1071d1b5-fc54-44e0-f941-80ebe4446186",
        "colab": {
          "base_uri": "https://localhost:8080/",
          "height": 123
        }
      },
      "source": [
        "test1.columns"
      ],
      "execution_count": 0,
      "outputs": [
        {
          "output_type": "execute_result",
          "data": {
            "text/plain": [
              "Index(['farm_id', 'farm_area', 'farming_company', 'deidentified_location',\n",
              "       'id', 'temp_obs', 'cloudiness', 'wind_direction', 'dew_temp',\n",
              "       'pressure_sea_level', 'precipitation', 'wind_speed', 'day', 'week',\n",
              "       'hour', 'ingredient_type_ing_w', 'ingredient_type_ing_x',\n",
              "       'ingredient_type_ing_y', 'ingredient_type_ing_z'],\n",
              "      dtype='object')"
            ]
          },
          "metadata": {
            "tags": []
          },
          "execution_count": 36
        }
      ]
    },
    {
      "cell_type": "code",
      "metadata": {
        "colab_type": "code",
        "id": "ADDlmB75LimH",
        "outputId": "094bd2ee-9ca4-4f19-87c0-9d37290b69ed",
        "colab": {
          "base_uri": "https://localhost:8080/",
          "height": 318
        }
      },
      "source": [
        "Train_final1.dtypes"
      ],
      "execution_count": 0,
      "outputs": [
        {
          "output_type": "execute_result",
          "data": {
            "text/plain": [
              "timestamp                      object\n",
              "farm_id                        object\n",
              "ingredient_type                object\n",
              "yield                         float64\n",
              "operations_commencing_year    float64\n",
              "num_processing_plants         float64\n",
              "farm_area                     float64\n",
              "farming_company                object\n",
              "deidentified_location          object\n",
              "temp_obs                      float64\n",
              "cloudiness                    float64\n",
              "wind_direction                float64\n",
              "dew_temp                      float64\n",
              "pressure_sea_level            float64\n",
              "precipitation                 float64\n",
              "wind_speed                    float64\n",
              "dtype: object"
            ]
          },
          "metadata": {
            "tags": []
          },
          "execution_count": 33
        }
      ]
    },
    {
      "cell_type": "code",
      "metadata": {
        "colab_type": "code",
        "id": "MEKwrPTSLmHX",
        "outputId": "44b1d943-e6d8-43c5-9126-593ba490c58c",
        "colab": {
          "base_uri": "https://localhost:8080/",
          "height": 318
        }
      },
      "source": [
        "test1.dtypes"
      ],
      "execution_count": 0,
      "outputs": [
        {
          "output_type": "execute_result",
          "data": {
            "text/plain": [
              "farm_id                   object\n",
              "farm_area                float64\n",
              "farming_company           object\n",
              "deidentified_location     object\n",
              "ingredient_type           object\n",
              "id                         int64\n",
              "temp_obs                 float64\n",
              "cloudiness               float64\n",
              "wind_direction           float64\n",
              "dew_temp                 float64\n",
              "pressure_sea_level       float64\n",
              "precipitation            float64\n",
              "wind_speed               float64\n",
              "day                        int64\n",
              "week                       int64\n",
              "hour                       int64\n",
              "dtype: object"
            ]
          },
          "metadata": {
            "tags": []
          },
          "execution_count": 40
        }
      ]
    },
    {
      "cell_type": "code",
      "metadata": {
        "colab_type": "code",
        "id": "lxagwYOEEfSk",
        "colab": {}
      },
      "source": [
        ""
      ],
      "execution_count": 0,
      "outputs": []
    },
    {
      "cell_type": "code",
      "metadata": {
        "colab_type": "code",
        "id": "raSDyXGKE4HB",
        "colab": {}
      },
      "source": [
        "## <center>Changing the data types</center>"
      ],
      "execution_count": 0,
      "outputs": []
    },
    {
      "cell_type": "code",
      "metadata": {
        "colab_type": "code",
        "id": "ZIuyLmctL4nU",
        "colab": {}
      },
      "source": [
        "Train_final1['day']=Train_final1.day.astype('category')\n",
        "Train_final1['week']=Train_final1.week.astype('category')\n",
        "Train_final1['farm_id']=Train_final1.farm_id.astype('category')\n",
        "Train_final1['iingredient_type_ing_w']=Train_final1.ingredient_type_ing_w.astype('category')\n",
        "Train_final1['ingredient_type_ing_x']=Train_final1.ingredient_type_ing_x.astype('category')\n",
        "Train_final1['ingredient_type_ing_y']=Train_final1.ingredient_type_ing_y.astype('category')\n",
        "Train_final1['ingredient_type_ing_z']=Train_final1.ingredient_type_ing_z.astype('category')\n",
        "Train_final1['farming_company']=Train_final1.farming_company.astype('category')\n",
        "Train_final1['deidentified_location']=Train_final1.deidentified_location.astype('category')"
      ],
      "execution_count": 0,
      "outputs": []
    },
    {
      "cell_type": "code",
      "metadata": {
        "colab_type": "code",
        "id": "_VAS-LxPMJml",
        "colab": {}
      },
      "source": [
        "test1['day']=test1.day.astype('category')\n",
        "test1['week']=test1.week.astype('category')\n",
        "test1['farm_id']=test1.farm_id.astype('category')\n",
        "test1['iingredient_type_ing_w']=test1.ingredient_type_ing_w.astype('category')\n",
        "test1['ingredient_type_ing_x']=test1.ingredient_type_ing_x.astype('category')\n",
        "test1['ingredient_type_ing_y']=test1.ingredient_type_ing_y.astype('category')\n",
        "test1['ingredient_type_ing_z']=test1.ingredient_type_ing_z.astype('category')\n",
        "test1['farming_company']=test1.farming_company.astype('category')\n",
        "test1['deidentified_location']=test1.deidentified_location.astype('category')"
      ],
      "execution_count": 0,
      "outputs": []
    },
    {
      "cell_type": "code",
      "metadata": {
        "colab_type": "code",
        "id": "iExj7a_wM4_h",
        "outputId": "47794763-1fe4-413c-ea46-4c057ffedd5c",
        "colab": {
          "base_uri": "https://localhost:8080/",
          "height": 318
        }
      },
      "source": [
        "new_data2.dtypes"
      ],
      "execution_count": 0,
      "outputs": [
        {
          "output_type": "execute_result",
          "data": {
            "text/plain": [
              "farm_id                  category\n",
              "ingredient_type          category\n",
              "yield                     float64\n",
              "farm_area                 float64\n",
              "farming_company          category\n",
              "deidentified_location    category\n",
              "temp_obs                  float64\n",
              "cloudiness                float64\n",
              "wind_direction            float64\n",
              "dew_temp                  float64\n",
              "pressure_sea_level        float64\n",
              "precipitation             float64\n",
              "wind_speed                float64\n",
              "day                      category\n",
              "week                     category\n",
              "hour                     category\n",
              "dtype: object"
            ]
          },
          "metadata": {
            "tags": []
          },
          "execution_count": 43
        }
      ]
    },
    {
      "cell_type": "code",
      "metadata": {
        "colab_type": "code",
        "id": "vY3G0Jh8M7iz",
        "outputId": "4741319e-1201-44c9-c52f-d9e69bbf0b45",
        "colab": {
          "base_uri": "https://localhost:8080/",
          "height": 318
        }
      },
      "source": [
        "test1.dtypes"
      ],
      "execution_count": 0,
      "outputs": [
        {
          "output_type": "execute_result",
          "data": {
            "text/plain": [
              "farm_id                  category\n",
              "farm_area                 float64\n",
              "farming_company          category\n",
              "deidentified_location    category\n",
              "ingredient_type          category\n",
              "id                          int64\n",
              "temp_obs                  float64\n",
              "cloudiness                float64\n",
              "wind_direction            float64\n",
              "dew_temp                  float64\n",
              "pressure_sea_level        float64\n",
              "precipitation             float64\n",
              "wind_speed                float64\n",
              "day                      category\n",
              "week                     category\n",
              "hour                     category\n",
              "dtype: object"
            ]
          },
          "metadata": {
            "tags": []
          },
          "execution_count": 44
        }
      ]
    },
    {
      "cell_type": "markdown",
      "metadata": {
        "id": "12TWTw0T53TU",
        "colab_type": "text"
      },
      "source": [
        "## <center> Performing label encoder on categorical variables</center>"
      ]
    },
    {
      "cell_type": "code",
      "metadata": {
        "colab_type": "code",
        "id": "YditWwoVNAG7",
        "colab": {}
      },
      "source": [
        "\n",
        "from sklearn import preprocessing\n",
        "label_encoder = preprocessing.LabelEncoder()"
      ],
      "execution_count": 0,
      "outputs": []
    },
    {
      "cell_type": "code",
      "metadata": {
        "colab_type": "code",
        "id": "wgnUGgPnPplw",
        "colab": {}
      },
      "source": [
        "Train_final1['deidentified_location']= label_encoder.fit_transform(Train_final1['deidentified_location'])\n",
        "Train_final1['farming_company']= label_encoder.fit_transform(Train_final1['farming_company'])\n"
      ],
      "execution_count": 0,
      "outputs": []
    },
    {
      "cell_type": "code",
      "metadata": {
        "colab_type": "code",
        "id": "3KAJPloMPt0_",
        "colab": {}
      },
      "source": [
        "test1['deidentified_location']= label_encoder.fit_transform(test1['deidentified_location'])\n",
        "test1['farming_company']= label_encoder.fit_transform(test1['farming_company'])\n"
      ],
      "execution_count": 0,
      "outputs": []
    },
    {
      "cell_type": "code",
      "metadata": {
        "colab_type": "code",
        "id": "6PcLwEhaReEL",
        "colab": {}
      },
      "source": [
        "Train_final1['farm_id'] = label_encoder.fit_transform(Train_final1['farm_id'])"
      ],
      "execution_count": 0,
      "outputs": []
    },
    {
      "cell_type": "code",
      "metadata": {
        "colab_type": "code",
        "id": "QoQCrYcWRojT",
        "colab": {}
      },
      "source": [
        "test1['farm_id']= label_encoder.fit_transform(test1['farm_id'])"
      ],
      "execution_count": 0,
      "outputs": []
    },
    {
      "cell_type": "code",
      "metadata": {
        "colab_type": "code",
        "id": "0SazmgvHVwkh",
        "outputId": "1781cfc2-7d84-4c54-cabf-7cdd0e2b3eff",
        "colab": {
          "base_uri": "https://localhost:8080/",
          "height": 52
        }
      },
      "source": [
        "print(new_data3.shape)\n",
        "print(test1.shape)"
      ],
      "execution_count": 0,
      "outputs": [
        {
          "output_type": "stream",
          "text": [
            "(20211985, 20)\n",
            "(20848800, 20)\n"
          ],
          "name": "stdout"
        }
      ]
    },
    {
      "cell_type": "code",
      "metadata": {
        "colab_type": "code",
        "id": "nKnF-TP96Bdc",
        "colab": {}
      },
      "source": [
        "\n",
        "import matplotlib.pyplot as plt\n",
        "import seaborn as sns\n",
        "import pandas as pd\n",
        "import numpy as np\n",
        "\n"
      ],
      "execution_count": 0,
      "outputs": []
    },
    {
      "cell_type": "code",
      "metadata": {
        "colab_type": "code",
        "id": "Zk_ZLvSK5ICh",
        "outputId": "4d13717b-ab17-4eaf-e017-1323b36654b9",
        "colab": {
          "base_uri": "https://localhost:8080/",
          "height": 141
        }
      },
      "source": [
        "Train_final1.columns"
      ],
      "execution_count": 0,
      "outputs": [
        {
          "output_type": "execute_result",
          "data": {
            "text/plain": [
              "Index(['farm_id', 'yield', 'farm_area', 'farming_company',\n",
              "       'deidentified_location', 'temp_obs', 'cloudiness', 'wind_direction',\n",
              "       'dew_temp', 'pressure_sea_level', 'precipitation', 'wind_speed', 'day',\n",
              "       'week', 'hour', 'ingredient_type_ing_w', 'ingredient_type_ing_x',\n",
              "       'ingredient_type_ing_y', 'ingredient_type_ing_z',\n",
              "       'iingredient_type_ing_w'],\n",
              "      dtype='object')"
            ]
          },
          "metadata": {
            "tags": []
          },
          "execution_count": 46
        }
      ]
    },
    {
      "cell_type": "markdown",
      "metadata": {
        "id": "sR9rcBhK53Tt",
        "colab_type": "text"
      },
      "source": [
        "## <center>Train Test Split</center>"
      ]
    },
    {
      "cell_type": "code",
      "metadata": {
        "colab_type": "code",
        "id": "IVxkbthAT6Uy",
        "colab": {}
      },
      "source": [
        "from sklearn.model_selection import train_test_split"
      ],
      "execution_count": 0,
      "outputs": []
    },
    {
      "cell_type": "code",
      "metadata": {
        "colab_type": "code",
        "id": "CBcfLe9rX869",
        "colab": {}
      },
      "source": [
        "from sklearn.preprocessing import StandardScaler"
      ],
      "execution_count": 0,
      "outputs": []
    },
    {
      "cell_type": "code",
      "metadata": {
        "colab_type": "code",
        "id": "8A6C_4oy-mwz",
        "colab": {}
      },
      "source": [
        "#test2 = test1.sample(5000000)\n",
        "#new_data3 =new_data2.sample(7500000)"
      ],
      "execution_count": 0,
      "outputs": []
    },
    {
      "cell_type": "code",
      "metadata": {
        "colab_type": "code",
        "id": "8-GKWbkgXuk8",
        "colab": {}
      },
      "source": [
        "y = Train_final1['yield']"
      ],
      "execution_count": 0,
      "outputs": []
    },
    {
      "cell_type": "code",
      "metadata": {
        "colab_type": "code",
        "id": "ScMypEjFXyhn",
        "colab": {}
      },
      "source": [
        "x= Train_final1.drop(['yield'],axis = 1)"
      ],
      "execution_count": 0,
      "outputs": []
    },
    {
      "cell_type": "code",
      "metadata": {
        "colab_type": "code",
        "id": "SLyJJ5K3X3Jl",
        "outputId": "2b3873cf-c318-4438-d879-40b4f1ac7f73",
        "colab": {
          "base_uri": "https://localhost:8080/",
          "height": 247
        }
      },
      "source": [
        "scalar = StandardScaler()\n",
        "scalar.fit_transform(x)"
      ],
      "execution_count": 0,
      "outputs": [
        {
          "output_type": "execute_result",
          "data": {
            "text/plain": [
              "array([[-0.03506081, -0.85886283, -0.02830836, ...,  1.73399036,\n",
              "        -1.66170024,  0.82229378],\n",
              "       [-0.03633449, -0.89896971, -0.02830836, ...,  1.73399036,\n",
              "        -1.66170024,  0.82229378],\n",
              "       [-0.03740756, -0.87636277, -0.02830836, ...,  1.73399036,\n",
              "        -1.66170024,  0.82229378],\n",
              "       ...,\n",
              "       [-0.03760254, -0.82623768,  0.63233973, ...,  1.66747803,\n",
              "         1.66103062,  0.82229378],\n",
              "       [-0.03433736, -0.6686871 , -1.56982058, ...,  1.66747803,\n",
              "         1.66103062,  0.82229378],\n",
              "       [-0.03760705, -0.13674321,  1.29298783, ...,  1.66747803,\n",
              "         1.66103062,  0.82229378]])"
            ]
          },
          "metadata": {
            "tags": []
          },
          "execution_count": 37
        }
      ]
    },
    {
      "cell_type": "code",
      "metadata": {
        "colab_type": "code",
        "id": "UdZnb62dHscl",
        "colab": {}
      },
      "source": [
        "from sklearn import metrics\n",
        "def rmse(train_actual,train_prediction,test_actual,test_prediction):\n",
        "    print('train')\n",
        "    print('rmse: ',np.sqrt(metrics.mean_squared_error(train_actual, train_prediction)))\n",
        "    \n",
        "    print('test')\n",
        "    print('rmse: ',np.sqrt(metrics.mean_squared_error(test_actual, test_prediction)))"
      ],
      "execution_count": 0,
      "outputs": []
    },
    {
      "cell_type": "code",
      "metadata": {
        "colab_type": "code",
        "id": "7ogXfTJ1YQ4Y",
        "colab": {}
      },
      "source": [
        "trainx,valx,trainy,valy=train_test_split(x,y,test_size=0.2, random_state=123)"
      ],
      "execution_count": 0,
      "outputs": []
    },
    {
      "cell_type": "markdown",
      "metadata": {
        "id": "m4XHLHkg53UO",
        "colab_type": "text"
      },
      "source": [
        "## <center> Lasso Regression</center>"
      ]
    },
    {
      "cell_type": "code",
      "metadata": {
        "colab_type": "code",
        "id": "uQpDWgJ-Gbx7",
        "colab": {}
      },
      "source": [
        "from sklearn.linear_model import LinearRegression, Lasso, Ridge"
      ],
      "execution_count": 0,
      "outputs": []
    },
    {
      "cell_type": "code",
      "metadata": {
        "colab_type": "code",
        "id": "nNqBzaf1Gi4N",
        "outputId": "40b94dfe-3e79-446a-e2f6-b53653aa11a6",
        "colab": {
          "base_uri": "https://localhost:8080/",
          "height": 70
        }
      },
      "source": [
        "ls = Lasso()\n",
        "ls.fit(trainx, trainy)"
      ],
      "execution_count": 46,
      "outputs": [
        {
          "output_type": "execute_result",
          "data": {
            "text/plain": [
              "Lasso(alpha=1.0, copy_X=True, fit_intercept=True, max_iter=1000,\n",
              "      normalize=False, positive=False, precompute=False, random_state=None,\n",
              "      selection='cyclic', tol=0.0001, warm_start=False)"
            ]
          },
          "metadata": {
            "tags": []
          },
          "execution_count": 46
        }
      ]
    },
    {
      "cell_type": "code",
      "metadata": {
        "id": "nSzxZ122_V7M",
        "colab_type": "code",
        "colab": {}
      },
      "source": [
        "pred3 = ls.predict(test1)"
      ],
      "execution_count": 0,
      "outputs": []
    },
    {
      "cell_type": "code",
      "metadata": {
        "colab_type": "code",
        "id": "rFBmZNmEQN4Y",
        "colab": {}
      },
      "source": [
        "pred_train = ls.predict(trainx)\n",
        "pred_test = ls.predict(valx)"
      ],
      "execution_count": 0,
      "outputs": []
    },
    {
      "cell_type": "code",
      "metadata": {
        "colab_type": "code",
        "id": "DYpbXJ3tPy1p",
        "outputId": "b35419ce-aad1-4e4d-bc5e-e054a4f1c0a9",
        "colab": {
          "base_uri": "https://localhost:8080/",
          "height": 87
        }
      },
      "source": [
        "rmse(trainy,pred_train,valy,pred_test)"
      ],
      "execution_count": 50,
      "outputs": [
        {
          "output_type": "stream",
          "text": [
            "train\n",
            "rmse:  152134.14729856476\n",
            "test\n",
            "rmse:  156915.8869081057\n"
          ],
          "name": "stdout"
        }
      ]
    },
    {
      "cell_type": "code",
      "metadata": {
        "id": "1Q-k4Zs18LyL",
        "colab_type": "code",
        "colab": {
          "base_uri": "https://localhost:8080/",
          "height": 793
        },
        "outputId": "ac3680a4-5d69-4ebe-88b7-28bc1395c411"
      },
      "source": [
        "from mlxtend.plotting import plot_learning_curves\n",
        "plot_learning_curves(trainx,trainy,valx,valy,ls,scoring = 'mean_squared_error')"
      ],
      "execution_count": 51,
      "outputs": [
        {
          "output_type": "execute_result",
          "data": {
            "text/plain": [
              "([23990747434.805298,\n",
              "  23059047165.74846,\n",
              "  22910680934.64414,\n",
              "  22818299406.5834,\n",
              "  23313413280.200222,\n",
              "  23415406070.038742,\n",
              "  23161959883.416348,\n",
              "  23217302639.61336,\n",
              "  23248088801.71438,\n",
              "  23144593577.207027],\n",
              " [24622595564.157417,\n",
              "  24622615772.295467,\n",
              "  24622613090.020645,\n",
              "  24622637067.773666,\n",
              "  24622566104.417404,\n",
              "  24622550457.922318,\n",
              "  24622545084.084812,\n",
              "  24622553772.627487,\n",
              "  24622569460.63221,\n",
              "  24622570430.558178])"
            ]
          },
          "metadata": {
            "tags": []
          },
          "execution_count": 51
        },
        {
          "output_type": "display_data",
          "data": {
            "image/png": "[encoded data removed]",
            "text/plain": [
              "<Figure size 432x288 with 1 Axes>"
            ]
          },
          "metadata": {
            "tags": []
          }
        }
      ]
    },
    {
      "cell_type": "code",
      "metadata": {
        "colab_type": "code",
        "id": "AZOykMAzRJ1A",
        "colab": {}
      },
      "source": [
        "pred2 = ls.predict(test1)"
      ],
      "execution_count": 0,
      "outputs": []
    },
    {
      "cell_type": "code",
      "metadata": {
        "colab_type": "code",
        "id": "IFP6zEb7TP8U",
        "colab": {}
      },
      "source": [
        "sol3 = pd.DataFrame({'id':test_data['id'],'yield':pred2})"
      ],
      "execution_count": 0,
      "outputs": []
    },
    {
      "cell_type": "code",
      "metadata": {
        "colab_type": "code",
        "id": "eQt3d1zvTYDZ",
        "colab": {}
      },
      "source": [
        "sol3.to_csv('sample3.csv',index=False)"
      ],
      "execution_count": 0,
      "outputs": []
    },
    {
      "cell_type": "markdown",
      "metadata": {
        "id": "txgV-WPM53Uy",
        "colab_type": "text"
      },
      "source": [
        "## <center>Decision Tree</center>"
      ]
    },
    {
      "cell_type": "code",
      "metadata": {
        "colab_type": "code",
        "id": "xGN8Th_nydSD",
        "colab": {}
      },
      "source": [
        "from sklearn.tree import DecisionTreeRegressor\n",
        "from sklearn.model_selection import GridSearchCV"
      ],
      "execution_count": 0,
      "outputs": []
    },
    {
      "cell_type": "code",
      "metadata": {
        "colab_type": "code",
        "id": "osLsEEBRyiOV",
        "colab": {}
      },
      "source": [
        "from sklearn.linear_model import LinearRegression, Lasso, Ridge"
      ],
      "execution_count": 0,
      "outputs": []
    },
    {
      "cell_type": "code",
      "metadata": {
        "colab_type": "code",
        "id": "UnTNDE0HyoST",
        "outputId": "4c0c1bdd-5ec1-4725-9748-6daaa5f5303a",
        "colab": {
          "base_uri": "https://localhost:8080/",
          "height": 105
        }
      },
      "source": [
        "from sklearn import tree\n",
        "dtr = DecisionTreeRegressor(max_depth=20, min_samples_split =100,min_samples_leaf=50, random_state=123)\n",
        "dtr.fit(trainx,trainy)"
      ],
      "execution_count": 0,
      "outputs": [
        {
          "output_type": "execute_result",
          "data": {
            "text/plain": [
              "DecisionTreeRegressor(criterion='mse', max_depth=20, max_features=None,\n",
              "                      max_leaf_nodes=None, min_impurity_decrease=0.0,\n",
              "                      min_impurity_split=None, min_samples_leaf=50,\n",
              "                      min_samples_split=100, min_weight_fraction_leaf=0.0,\n",
              "                      presort=False, random_state=123, splitter='best')"
            ]
          },
          "metadata": {
            "tags": []
          },
          "execution_count": 49
        }
      ]
    },
    {
      "cell_type": "code",
      "metadata": {
        "colab_type": "code",
        "id": "TeYnG_GB0gXN",
        "colab": {}
      },
      "source": [
        "pred_train = dtr.predict(trainx)\n",
        "pred_test = dtr.predict(valx)"
      ],
      "execution_count": 0,
      "outputs": []
    },
    {
      "cell_type": "code",
      "metadata": {
        "colab_type": "code",
        "id": "aw1b5Q7q01V0",
        "outputId": "6e4cefa0-ef72-454e-bb4d-e56ef98fdd60",
        "colab": {
          "base_uri": "https://localhost:8080/",
          "height": 87
        }
      },
      "source": [
        "rmse(trainy,pred_train,valy,pred_test)"
      ],
      "execution_count": 0,
      "outputs": [
        {
          "output_type": "stream",
          "text": [
            "train\n",
            "rmse:  891.0454925512194\n",
            "test\n",
            "rmse:  896.5991959932009\n"
          ],
          "name": "stdout"
        }
      ]
    },
    {
      "cell_type": "code",
      "metadata": {
        "id": "lZJeCv4c53VA",
        "colab_type": "code",
        "colab": {},
        "outputId": "9c3a909e-32ce-4472-c124-907b817c2e2b"
      },
      "source": [
        "from mlxtend.plotting import plot_learning_curves\n",
        "plot_learning_curves(trainx,trainy,valx,valy,dtr,scoring = 'mean_squared_error')"
      ],
      "execution_count": 0,
      "outputs": [
        {
          "output_type": "execute_result",
          "data": {
            "text/plain": [
              "([2903325000.6359787,\n",
              "  2910470966.0125284,\n",
              "  2811313017.2654414,\n",
              "  2938062905.1680226,\n",
              "  2749146504.534598,\n",
              "  2769041067.198929,\n",
              "  2631747972.998816,\n",
              "  2291259889.4810376,\n",
              "  1951413300.798353,\n",
              "  2168577633.6559525],\n",
              " [4155624845.969595,\n",
              "  3771919004.2557983,\n",
              "  3714731875.910642,\n",
              "  3702358604.305428,\n",
              "  3536134982.596653,\n",
              "  3364693833.006902,\n",
              "  3070392905.0508866,\n",
              "  2578512137.432331,\n",
              "  2215423033.3487473,\n",
              "  2653475983.380385])"
            ]
          },
          "metadata": {
            "tags": []
          },
          "execution_count": 62
        },
        {
          "output_type": "display_data",
          "data": {
            "image/png": "[encoded data removed]",
            "text/plain": [
              "<Figure size 432x288 with 1 Axes>"
            ]
          },
          "metadata": {
            "tags": []
          }
        }
      ]
    },
    {
      "cell_type": "code",
      "metadata": {
        "id": "1pfgszgg53VG",
        "colab_type": "code",
        "colab": {}
      },
      "source": [
        ""
      ],
      "execution_count": 0,
      "outputs": []
    },
    {
      "cell_type": "markdown",
      "metadata": {
        "id": "kQ28Cki_CaWc",
        "colab_type": "text"
      },
      "source": [
        "By Decision Tree model i got good predictions rather than lasso and linear regressions\n"
      ]
    },
    {
      "cell_type": "code",
      "metadata": {
        "colab_type": "code",
        "id": "PQ1z-JKpcECb",
        "colab": {}
      },
      "source": [
        "test1 =test1.drop([\"id\"],axis = 1) "
      ],
      "execution_count": 0,
      "outputs": []
    },
    {
      "cell_type": "code",
      "metadata": {
        "colab_type": "code",
        "id": "kNBCrRigb1sD",
        "colab": {}
      },
      "source": [
        "pred6 = dtr.predict(test1)"
      ],
      "execution_count": 0,
      "outputs": []
    },
    {
      "cell_type": "code",
      "metadata": {
        "colab_type": "code",
        "id": "m6g8hiRZcXh0",
        "colab": {}
      },
      "source": [
        "sol7 = pd.DataFrame({'id':test_data['id'],'yield':pred6})"
      ],
      "execution_count": 0,
      "outputs": []
    },
    {
      "cell_type": "code",
      "metadata": {
        "colab_type": "code",
        "id": "DDXHE_1Xcv6b",
        "colab": {}
      },
      "source": [
        "sol7.to_csv('sample7.csv',index=False)"
      ],
      "execution_count": 0,
      "outputs": []
    },
    {
      "cell_type": "code",
      "metadata": {
        "colab_type": "code",
        "id": "6dvkdDAz1FIn",
        "colab": {}
      },
      "source": [
        "pred4 = dtr.predict(test1)"
      ],
      "execution_count": 0,
      "outputs": []
    },
    {
      "cell_type": "code",
      "metadata": {
        "colab_type": "code",
        "id": "qYwDRfjG1j1m",
        "colab": {}
      },
      "source": [
        "sol4 = pd.DataFrame({'id':test_data['id'],'yield':pred4})"
      ],
      "execution_count": 0,
      "outputs": []
    },
    {
      "cell_type": "code",
      "metadata": {
        "colab_type": "code",
        "id": "wAMOIWje1uE1",
        "colab": {}
      },
      "source": [
        "sol4.to_csv('sample4.csv',index=False)"
      ],
      "execution_count": 0,
      "outputs": []
    },
    {
      "cell_type": "markdown",
      "metadata": {
        "id": "83tawnET53Vd",
        "colab_type": "text"
      },
      "source": [
        "## <center>Linear Regression</center>"
      ]
    },
    {
      "cell_type": "code",
      "metadata": {
        "colab_type": "code",
        "id": "8dypH0jLYWnW",
        "colab": {}
      },
      "source": [
        "from sklearn.linear_model import LinearRegression"
      ],
      "execution_count": 0,
      "outputs": []
    },
    {
      "cell_type": "code",
      "metadata": {
        "colab_type": "code",
        "id": "FEzGnvvhYaLH",
        "outputId": "5534ec42-e7a8-4aaa-d92d-b82748606756",
        "colab": {
          "base_uri": "https://localhost:8080/",
          "height": 34
        }
      },
      "source": [
        "lm = LinearRegression()\n",
        "lm.fit(trainx,trainy)"
      ],
      "execution_count": 0,
      "outputs": [
        {
          "output_type": "execute_result",
          "data": {
            "text/plain": [
              "LinearRegression(copy_X=True, fit_intercept=True, n_jobs=None, normalize=False)"
            ]
          },
          "metadata": {
            "tags": []
          },
          "execution_count": 67
        }
      ]
    },
    {
      "cell_type": "code",
      "metadata": {
        "colab_type": "code",
        "id": "pj4gY8GYYaRN",
        "colab": {}
      },
      "source": [
        "predttrain=lm.predict(trainx)"
      ],
      "execution_count": 0,
      "outputs": []
    },
    {
      "cell_type": "code",
      "metadata": {
        "colab_type": "code",
        "id": "rkjme1QnaIIh",
        "colab": {}
      },
      "source": [
        "predicttest=lm.predict(valx)"
      ],
      "execution_count": 0,
      "outputs": []
    },
    {
      "cell_type": "code",
      "metadata": {
        "colab_type": "code",
        "id": "4scf6vsXaP0x",
        "colab": {}
      },
      "source": [
        "from sklearn import metrics\n",
        "def rmse(train_actual,train_prediction,test_actual,test_prediction):\n",
        "    print('train')\n",
        "    print('rmse: ',np.sqrt(metrics.mean_squared_error(train_actual, train_prediction)))\n",
        "    \n",
        "    print('test')\n",
        "    print('rmse: ',np.sqrt(metrics.mean_squared_error(test_actual, test_prediction)))\n",
        "    "
      ],
      "execution_count": 0,
      "outputs": []
    },
    {
      "cell_type": "code",
      "metadata": {
        "colab_type": "code",
        "id": "X6LcV2X1agAl",
        "outputId": "c19e9170-f058-4824-cb9e-8ddf0002b566",
        "colab": {
          "base_uri": "https://localhost:8080/",
          "height": 87
        }
      },
      "source": [
        "rmse(trainy,predttrain,valy,predicttest)"
      ],
      "execution_count": 0,
      "outputs": [
        {
          "output_type": "stream",
          "text": [
            "train\n",
            "rmse:  141691.16519427227\n",
            "test\n",
            "rmse:  145862.38027769976\n"
          ],
          "name": "stdout"
        }
      ]
    },
    {
      "cell_type": "code",
      "metadata": {
        "colab_type": "code",
        "id": "r-pryF2Wdk6t",
        "colab": {}
      },
      "source": [
        "test1 =test1.drop([\"id\"],axis = 1) "
      ],
      "execution_count": 0,
      "outputs": []
    },
    {
      "cell_type": "code",
      "metadata": {
        "colab_type": "code",
        "id": "_AaJ_r7LakIw",
        "colab": {}
      },
      "source": [
        "pred = dtr.predict(test1)"
      ],
      "execution_count": 0,
      "outputs": []
    },
    {
      "cell_type": "code",
      "metadata": {
        "colab_type": "code",
        "id": "KvZ3FPhRazkt",
        "colab": {}
      },
      "source": [
        "sol3 = pd.DataFrame({'id':test_data['id'],'yield':pred})"
      ],
      "execution_count": 0,
      "outputs": []
    },
    {
      "cell_type": "code",
      "metadata": {
        "colab_type": "code",
        "id": "ng5C8NDTfvj5",
        "colab": {}
      },
      "source": [
        "#sol1"
      ],
      "execution_count": 0,
      "outputs": []
    },
    {
      "cell_type": "code",
      "metadata": {
        "colab_type": "code",
        "id": "TqxVZ2M5fx-0",
        "colab": {}
      },
      "source": [
        "sol3.to_csv('sample4.csv',index=False)"
      ],
      "execution_count": 0,
      "outputs": []
    },
    {
      "cell_type": "code",
      "metadata": {
        "colab_type": "code",
        "id": "HGV-R7uOqrqj",
        "colab": {}
      },
      "source": [
        ""
      ],
      "execution_count": 0,
      "outputs": []
    },
    {
      "cell_type": "code",
      "metadata": {
        "colab_type": "code",
        "id": "4hSQtE19gGIy",
        "colab": {}
      },
      "source": [
        ""
      ],
      "execution_count": 0,
      "outputs": []
    },
    {
      "cell_type": "code",
      "metadata": {
        "id": "uQVgbpR053WL",
        "colab_type": "code",
        "colab": {}
      },
      "source": [
        ""
      ],
      "execution_count": 0,
      "outputs": []
    }
  ]
}