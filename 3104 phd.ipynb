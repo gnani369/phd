{
 "cells": [
  {
   "cell_type": "code",
   "execution_count": 1,
   "metadata": {},
   "outputs": [],
   "source": [
    "import pandas as pd\n",
    "import numpy as np"
   ]
  },
  {
   "cell_type": "code",
   "execution_count": null,
   "metadata": {},
   "outputs": [],
   "source": []
  },
  {
   "cell_type": "code",
   "execution_count": 2,
   "metadata": {},
   "outputs": [],
   "source": [
    "farm_data = pd.read_csv(\"C:\\\\Users\\\\venkat333\\\\Desktop\\\\PHD\\\\farm_data.csv\")"
   ]
  },
  {
   "cell_type": "code",
   "execution_count": 3,
   "metadata": {},
   "outputs": [],
   "source": [
    "train_data = pd.read_csv(\"C:\\\\Users\\\\venkat333\\\\Desktop\\\\PHD\\\\train_data.csv\")"
   ]
  },
  {
   "cell_type": "code",
   "execution_count": null,
   "metadata": {},
   "outputs": [],
   "source": []
  },
  {
   "cell_type": "code",
   "execution_count": 4,
   "metadata": {},
   "outputs": [],
   "source": [
    "weather_data = pd.read_csv(\"C:\\\\Users\\\\venkat333\\\\Desktop\\\\PHD\\\\train_weather.csv\")"
   ]
  },
  {
   "cell_type": "code",
   "execution_count": 5,
   "metadata": {},
   "outputs": [
    {
     "data": {
      "text/html": [
       "<div>\n",
       "<style scoped>\n",
       "    .dataframe tbody tr th:only-of-type {\n",
       "        vertical-align: middle;\n",
       "    }\n",
       "\n",
       "    .dataframe tbody tr th {\n",
       "        vertical-align: top;\n",
       "    }\n",
       "\n",
       "    .dataframe thead th {\n",
       "        text-align: right;\n",
       "    }\n",
       "</style>\n",
       "<table border=\"1\" class=\"dataframe\">\n",
       "  <thead>\n",
       "    <tr style=\"text-align: right;\">\n",
       "      <th></th>\n",
       "      <th>date</th>\n",
       "      <th>farm_id</th>\n",
       "      <th>ingredient_type</th>\n",
       "      <th>yield</th>\n",
       "    </tr>\n",
       "  </thead>\n",
       "  <tbody>\n",
       "    <tr>\n",
       "      <th>0</th>\n",
       "      <td>2016-01-01 00:00:00</td>\n",
       "      <td>fid_110884</td>\n",
       "      <td>ing_w</td>\n",
       "      <td>0.0</td>\n",
       "    </tr>\n",
       "    <tr>\n",
       "      <th>1</th>\n",
       "      <td>2016-01-01 00:00:00</td>\n",
       "      <td>fid_90053</td>\n",
       "      <td>ing_w</td>\n",
       "      <td>0.0</td>\n",
       "    </tr>\n",
       "    <tr>\n",
       "      <th>2</th>\n",
       "      <td>2016-01-01 00:00:00</td>\n",
       "      <td>fid_17537</td>\n",
       "      <td>ing_w</td>\n",
       "      <td>0.0</td>\n",
       "    </tr>\n",
       "    <tr>\n",
       "      <th>3</th>\n",
       "      <td>2016-01-01 00:00:00</td>\n",
       "      <td>fid_110392</td>\n",
       "      <td>ing_w</td>\n",
       "      <td>0.0</td>\n",
       "    </tr>\n",
       "    <tr>\n",
       "      <th>4</th>\n",
       "      <td>2016-01-01 00:00:00</td>\n",
       "      <td>fid_62402</td>\n",
       "      <td>ing_w</td>\n",
       "      <td>0.0</td>\n",
       "    </tr>\n",
       "  </tbody>\n",
       "</table>\n",
       "</div>"
      ],
      "text/plain": [
       "                  date     farm_id ingredient_type  yield\n",
       "0  2016-01-01 00:00:00  fid_110884           ing_w    0.0\n",
       "1  2016-01-01 00:00:00   fid_90053           ing_w    0.0\n",
       "2  2016-01-01 00:00:00   fid_17537           ing_w    0.0\n",
       "3  2016-01-01 00:00:00  fid_110392           ing_w    0.0\n",
       "4  2016-01-01 00:00:00   fid_62402           ing_w    0.0"
      ]
     },
     "execution_count": 5,
     "metadata": {},
     "output_type": "execute_result"
    }
   ],
   "source": [
    "train_data.head()"
   ]
  },
  {
   "cell_type": "code",
   "execution_count": 6,
   "metadata": {},
   "outputs": [
    {
     "data": {
      "text/plain": [
       "(20216100, 4)"
      ]
     },
     "execution_count": 6,
     "metadata": {},
     "output_type": "execute_result"
    }
   ],
   "source": [
    "train_data.shape"
   ]
  },
  {
   "cell_type": "code",
   "execution_count": 7,
   "metadata": {},
   "outputs": [
    {
     "data": {
      "text/plain": [
       "date               0\n",
       "farm_id            0\n",
       "ingredient_type    0\n",
       "yield              0\n",
       "dtype: int64"
      ]
     },
     "execution_count": 7,
     "metadata": {},
     "output_type": "execute_result"
    }
   ],
   "source": [
    "train_data.isnull().sum()"
   ]
  },
  {
   "cell_type": "code",
   "execution_count": 8,
   "metadata": {},
   "outputs": [
    {
     "data": {
      "text/html": [
       "<div>\n",
       "<style scoped>\n",
       "    .dataframe tbody tr th:only-of-type {\n",
       "        vertical-align: middle;\n",
       "    }\n",
       "\n",
       "    .dataframe tbody tr th {\n",
       "        vertical-align: top;\n",
       "    }\n",
       "\n",
       "    .dataframe thead th {\n",
       "        text-align: right;\n",
       "    }\n",
       "</style>\n",
       "<table border=\"1\" class=\"dataframe\">\n",
       "  <thead>\n",
       "    <tr style=\"text-align: right;\">\n",
       "      <th></th>\n",
       "      <th>count</th>\n",
       "      <th>mean</th>\n",
       "      <th>std</th>\n",
       "      <th>min</th>\n",
       "      <th>25%</th>\n",
       "      <th>50%</th>\n",
       "      <th>75%</th>\n",
       "      <th>max</th>\n",
       "    </tr>\n",
       "  </thead>\n",
       "  <tbody>\n",
       "    <tr>\n",
       "      <th>yield</th>\n",
       "      <td>20216100.0</td>\n",
       "      <td>2117.121076</td>\n",
       "      <td>153235.624995</td>\n",
       "      <td>0.0</td>\n",
       "      <td>18.3</td>\n",
       "      <td>78.775</td>\n",
       "      <td>267.984</td>\n",
       "      <td>21904700.0</td>\n",
       "    </tr>\n",
       "  </tbody>\n",
       "</table>\n",
       "</div>"
      ],
      "text/plain": [
       "            count         mean            std  min   25%     50%      75%  \\\n",
       "yield  20216100.0  2117.121076  153235.624995  0.0  18.3  78.775  267.984   \n",
       "\n",
       "              max  \n",
       "yield  21904700.0  "
      ]
     },
     "execution_count": 8,
     "metadata": {},
     "output_type": "execute_result"
    }
   ],
   "source": [
    "train_data.describe().T"
   ]
  },
  {
   "cell_type": "code",
   "execution_count": 9,
   "metadata": {},
   "outputs": [
    {
     "data": {
      "text/plain": [
       "farm_id                       1449\n",
       "operations_commencing_year     675\n",
       "num_processing_plants          355\n",
       "farm_area                     1449\n",
       "farming_company               1449\n",
       "deidentified_location         1449\n",
       "dtype: int64"
      ]
     },
     "execution_count": 9,
     "metadata": {},
     "output_type": "execute_result"
    }
   ],
   "source": [
    "farm_data.count()"
   ]
  },
  {
   "cell_type": "code",
   "execution_count": 10,
   "metadata": {},
   "outputs": [
    {
     "data": {
      "text/plain": [
       "15"
      ]
     },
     "execution_count": 10,
     "metadata": {},
     "output_type": "execute_result"
    }
   ],
   "source": [
    "farm_data['farm_id'].duplicated().sum()"
   ]
  },
  {
   "cell_type": "markdown",
   "metadata": {},
   "source": [
    "# checking the duplicated \n"
   ]
  },
  {
   "cell_type": "raw",
   "metadata": {},
   "source": [
    "farm_data[farm_data['farm_id'"
   ]
  },
  {
   "cell_type": "code",
   "execution_count": 11,
   "metadata": {},
   "outputs": [
    {
     "data": {
      "text/html": [
       "<div>\n",
       "<style scoped>\n",
       "    .dataframe tbody tr th:only-of-type {\n",
       "        vertical-align: middle;\n",
       "    }\n",
       "\n",
       "    .dataframe tbody tr th {\n",
       "        vertical-align: top;\n",
       "    }\n",
       "\n",
       "    .dataframe thead th {\n",
       "        text-align: right;\n",
       "    }\n",
       "</style>\n",
       "<table border=\"1\" class=\"dataframe\">\n",
       "  <thead>\n",
       "    <tr style=\"text-align: right;\">\n",
       "      <th></th>\n",
       "      <th>farm_id</th>\n",
       "      <th>operations_commencing_year</th>\n",
       "      <th>num_processing_plants</th>\n",
       "      <th>farm_area</th>\n",
       "      <th>farming_company</th>\n",
       "      <th>deidentified_location</th>\n",
       "    </tr>\n",
       "  </thead>\n",
       "  <tbody>\n",
       "    <tr>\n",
       "      <th>66</th>\n",
       "      <td>fid_40459</td>\n",
       "      <td>1981.0</td>\n",
       "      <td>NaN</td>\n",
       "      <td>3459.800623</td>\n",
       "      <td>Dole Food Company</td>\n",
       "      <td>location 7369</td>\n",
       "    </tr>\n",
       "    <tr>\n",
       "      <th>178</th>\n",
       "      <td>fid_68761</td>\n",
       "      <td>NaN</td>\n",
       "      <td>NaN</td>\n",
       "      <td>2173.186976</td>\n",
       "      <td>Wayne Farms</td>\n",
       "      <td>location 5489</td>\n",
       "    </tr>\n",
       "    <tr>\n",
       "      <th>184</th>\n",
       "      <td>fid_68761</td>\n",
       "      <td>NaN</td>\n",
       "      <td>NaN</td>\n",
       "      <td>3174.588413</td>\n",
       "      <td>Obery Farms</td>\n",
       "      <td>location 5489</td>\n",
       "    </tr>\n",
       "    <tr>\n",
       "      <th>287</th>\n",
       "      <td>fid_73431</td>\n",
       "      <td>1956.0</td>\n",
       "      <td>NaN</td>\n",
       "      <td>3132.038839</td>\n",
       "      <td>Wayne Farms</td>\n",
       "      <td>location 5489</td>\n",
       "    </tr>\n",
       "    <tr>\n",
       "      <th>325</th>\n",
       "      <td>fid_81333</td>\n",
       "      <td>1959.0</td>\n",
       "      <td>NaN</td>\n",
       "      <td>5499.857600</td>\n",
       "      <td>Obery Farms</td>\n",
       "      <td>location 5290</td>\n",
       "    </tr>\n",
       "    <tr>\n",
       "      <th>360</th>\n",
       "      <td>fid_54932</td>\n",
       "      <td>1949.0</td>\n",
       "      <td>NaN</td>\n",
       "      <td>6466.048800</td>\n",
       "      <td>Obery Farms</td>\n",
       "      <td>location 5290</td>\n",
       "    </tr>\n",
       "    <tr>\n",
       "      <th>376</th>\n",
       "      <td>fid_68792</td>\n",
       "      <td>1942.0</td>\n",
       "      <td>NaN</td>\n",
       "      <td>54436.977365</td>\n",
       "      <td>Wayne Farms</td>\n",
       "      <td>location 5290</td>\n",
       "    </tr>\n",
       "    <tr>\n",
       "      <th>395</th>\n",
       "      <td>fid_97094</td>\n",
       "      <td>1912.0</td>\n",
       "      <td>NaN</td>\n",
       "      <td>829.159275</td>\n",
       "      <td>Del Monte Foods</td>\n",
       "      <td>location 5290</td>\n",
       "    </tr>\n",
       "    <tr>\n",
       "      <th>510</th>\n",
       "      <td>fid_26064</td>\n",
       "      <td>NaN</td>\n",
       "      <td>NaN</td>\n",
       "      <td>425.588643</td>\n",
       "      <td>Del Monte Foods</td>\n",
       "      <td>location 5290</td>\n",
       "    </tr>\n",
       "    <tr>\n",
       "      <th>537</th>\n",
       "      <td>fid_18990</td>\n",
       "      <td>1959.0</td>\n",
       "      <td>NaN</td>\n",
       "      <td>6800.499600</td>\n",
       "      <td>Obery Farms</td>\n",
       "      <td>location 5290</td>\n",
       "    </tr>\n",
       "    <tr>\n",
       "      <th>574</th>\n",
       "      <td>fid_53126</td>\n",
       "      <td>1905.0</td>\n",
       "      <td>8.0</td>\n",
       "      <td>5234.433729</td>\n",
       "      <td>Obery Farms</td>\n",
       "      <td>location 5833</td>\n",
       "    </tr>\n",
       "    <tr>\n",
       "      <th>594</th>\n",
       "      <td>fid_18990</td>\n",
       "      <td>1964.0</td>\n",
       "      <td>11.0</td>\n",
       "      <td>16469.936743</td>\n",
       "      <td>Obery Farms</td>\n",
       "      <td>location 5833</td>\n",
       "    </tr>\n",
       "    <tr>\n",
       "      <th>634</th>\n",
       "      <td>fid_29387</td>\n",
       "      <td>1910.0</td>\n",
       "      <td>8.0</td>\n",
       "      <td>371.612000</td>\n",
       "      <td>Obery Farms</td>\n",
       "      <td>location 5833</td>\n",
       "    </tr>\n",
       "    <tr>\n",
       "      <th>647</th>\n",
       "      <td>fid_54932</td>\n",
       "      <td>1942.0</td>\n",
       "      <td>9.0</td>\n",
       "      <td>8078.751977</td>\n",
       "      <td>Dole Food Company</td>\n",
       "      <td>location 5833</td>\n",
       "    </tr>\n",
       "    <tr>\n",
       "      <th>649</th>\n",
       "      <td>fid_81333</td>\n",
       "      <td>1996.0</td>\n",
       "      <td>14.0</td>\n",
       "      <td>10787.989263</td>\n",
       "      <td>Obery Farms</td>\n",
       "      <td>location 5833</td>\n",
       "    </tr>\n",
       "    <tr>\n",
       "      <th>678</th>\n",
       "      <td>fid_59158</td>\n",
       "      <td>1976.0</td>\n",
       "      <td>10.0</td>\n",
       "      <td>5664.946231</td>\n",
       "      <td>Del Monte Foods</td>\n",
       "      <td>location 6364</td>\n",
       "    </tr>\n",
       "    <tr>\n",
       "      <th>679</th>\n",
       "      <td>fid_71910</td>\n",
       "      <td>1976.0</td>\n",
       "      <td>7.0</td>\n",
       "      <td>4031.990200</td>\n",
       "      <td>Del Monte Foods</td>\n",
       "      <td>location 6364</td>\n",
       "    </tr>\n",
       "    <tr>\n",
       "      <th>705</th>\n",
       "      <td>fid_40459</td>\n",
       "      <td>1976.0</td>\n",
       "      <td>5.0</td>\n",
       "      <td>2192.975315</td>\n",
       "      <td>Obery Farms</td>\n",
       "      <td>location 6364</td>\n",
       "    </tr>\n",
       "    <tr>\n",
       "      <th>736</th>\n",
       "      <td>fid_71910</td>\n",
       "      <td>1976.0</td>\n",
       "      <td>7.0</td>\n",
       "      <td>8794.012174</td>\n",
       "      <td>Obery Farms</td>\n",
       "      <td>location 6364</td>\n",
       "    </tr>\n",
       "    <tr>\n",
       "      <th>822</th>\n",
       "      <td>fid_68792</td>\n",
       "      <td>NaN</td>\n",
       "      <td>5.0</td>\n",
       "      <td>34.002498</td>\n",
       "      <td>Sanderson Farms</td>\n",
       "      <td>location 5677</td>\n",
       "    </tr>\n",
       "    <tr>\n",
       "      <th>895</th>\n",
       "      <td>fid_63700</td>\n",
       "      <td>NaN</td>\n",
       "      <td>NaN</td>\n",
       "      <td>5117.747561</td>\n",
       "      <td>Obery Farms</td>\n",
       "      <td>location 8421</td>\n",
       "    </tr>\n",
       "    <tr>\n",
       "      <th>1043</th>\n",
       "      <td>fid_29387</td>\n",
       "      <td>NaN</td>\n",
       "      <td>NaN</td>\n",
       "      <td>2590.971767</td>\n",
       "      <td>Wayne Farms</td>\n",
       "      <td>location 7048</td>\n",
       "    </tr>\n",
       "    <tr>\n",
       "      <th>1076</th>\n",
       "      <td>fid_122174</td>\n",
       "      <td>NaN</td>\n",
       "      <td>NaN</td>\n",
       "      <td>10874.667762</td>\n",
       "      <td>Dole Food Company</td>\n",
       "      <td>location 2532</td>\n",
       "    </tr>\n",
       "    <tr>\n",
       "      <th>1136</th>\n",
       "      <td>fid_122174</td>\n",
       "      <td>NaN</td>\n",
       "      <td>NaN</td>\n",
       "      <td>7411.987146</td>\n",
       "      <td>Wayne Farms</td>\n",
       "      <td>location 2532</td>\n",
       "    </tr>\n",
       "    <tr>\n",
       "      <th>1144</th>\n",
       "      <td>fid_53126</td>\n",
       "      <td>NaN</td>\n",
       "      <td>NaN</td>\n",
       "      <td>14150.241736</td>\n",
       "      <td>Wayne Farms</td>\n",
       "      <td>location 2532</td>\n",
       "    </tr>\n",
       "    <tr>\n",
       "      <th>1156</th>\n",
       "      <td>fid_26064</td>\n",
       "      <td>NaN</td>\n",
       "      <td>NaN</td>\n",
       "      <td>24153.758067</td>\n",
       "      <td>Obery Farms</td>\n",
       "      <td>location 2532</td>\n",
       "    </tr>\n",
       "    <tr>\n",
       "      <th>1181</th>\n",
       "      <td>fid_73431</td>\n",
       "      <td>NaN</td>\n",
       "      <td>NaN</td>\n",
       "      <td>5630.479218</td>\n",
       "      <td>Obery Farms</td>\n",
       "      <td>location 2532</td>\n",
       "    </tr>\n",
       "    <tr>\n",
       "      <th>1300</th>\n",
       "      <td>fid_63700</td>\n",
       "      <td>NaN</td>\n",
       "      <td>NaN</td>\n",
       "      <td>2379.152927</td>\n",
       "      <td>Foster Farms</td>\n",
       "      <td>location 5410</td>\n",
       "    </tr>\n",
       "    <tr>\n",
       "      <th>1346</th>\n",
       "      <td>fid_59158</td>\n",
       "      <td>1993.0</td>\n",
       "      <td>NaN</td>\n",
       "      <td>3239.992125</td>\n",
       "      <td>Obery Farms</td>\n",
       "      <td>location 5150</td>\n",
       "    </tr>\n",
       "    <tr>\n",
       "      <th>1353</th>\n",
       "      <td>fid_97094</td>\n",
       "      <td>NaN</td>\n",
       "      <td>NaN</td>\n",
       "      <td>2062.539503</td>\n",
       "      <td>Southern Confederate Farms</td>\n",
       "      <td>location 5150</td>\n",
       "    </tr>\n",
       "  </tbody>\n",
       "</table>\n",
       "</div>"
      ],
      "text/plain": [
       "         farm_id  operations_commencing_year  num_processing_plants  \\\n",
       "66     fid_40459                      1981.0                    NaN   \n",
       "178    fid_68761                         NaN                    NaN   \n",
       "184    fid_68761                         NaN                    NaN   \n",
       "287    fid_73431                      1956.0                    NaN   \n",
       "325    fid_81333                      1959.0                    NaN   \n",
       "360    fid_54932                      1949.0                    NaN   \n",
       "376    fid_68792                      1942.0                    NaN   \n",
       "395    fid_97094                      1912.0                    NaN   \n",
       "510    fid_26064                         NaN                    NaN   \n",
       "537    fid_18990                      1959.0                    NaN   \n",
       "574    fid_53126                      1905.0                    8.0   \n",
       "594    fid_18990                      1964.0                   11.0   \n",
       "634    fid_29387                      1910.0                    8.0   \n",
       "647    fid_54932                      1942.0                    9.0   \n",
       "649    fid_81333                      1996.0                   14.0   \n",
       "678    fid_59158                      1976.0                   10.0   \n",
       "679    fid_71910                      1976.0                    7.0   \n",
       "705    fid_40459                      1976.0                    5.0   \n",
       "736    fid_71910                      1976.0                    7.0   \n",
       "822    fid_68792                         NaN                    5.0   \n",
       "895    fid_63700                         NaN                    NaN   \n",
       "1043   fid_29387                         NaN                    NaN   \n",
       "1076  fid_122174                         NaN                    NaN   \n",
       "1136  fid_122174                         NaN                    NaN   \n",
       "1144   fid_53126                         NaN                    NaN   \n",
       "1156   fid_26064                         NaN                    NaN   \n",
       "1181   fid_73431                         NaN                    NaN   \n",
       "1300   fid_63700                         NaN                    NaN   \n",
       "1346   fid_59158                      1993.0                    NaN   \n",
       "1353   fid_97094                         NaN                    NaN   \n",
       "\n",
       "         farm_area             farming_company deidentified_location  \n",
       "66     3459.800623           Dole Food Company         location 7369  \n",
       "178    2173.186976                 Wayne Farms         location 5489  \n",
       "184    3174.588413                 Obery Farms         location 5489  \n",
       "287    3132.038839                 Wayne Farms         location 5489  \n",
       "325    5499.857600                 Obery Farms         location 5290  \n",
       "360    6466.048800                 Obery Farms         location 5290  \n",
       "376   54436.977365                 Wayne Farms         location 5290  \n",
       "395     829.159275             Del Monte Foods         location 5290  \n",
       "510     425.588643             Del Monte Foods         location 5290  \n",
       "537    6800.499600                 Obery Farms         location 5290  \n",
       "574    5234.433729                 Obery Farms         location 5833  \n",
       "594   16469.936743                 Obery Farms         location 5833  \n",
       "634     371.612000                 Obery Farms         location 5833  \n",
       "647    8078.751977           Dole Food Company         location 5833  \n",
       "649   10787.989263                 Obery Farms         location 5833  \n",
       "678    5664.946231             Del Monte Foods         location 6364  \n",
       "679    4031.990200             Del Monte Foods         location 6364  \n",
       "705    2192.975315                 Obery Farms         location 6364  \n",
       "736    8794.012174                 Obery Farms         location 6364  \n",
       "822      34.002498             Sanderson Farms         location 5677  \n",
       "895    5117.747561                 Obery Farms         location 8421  \n",
       "1043   2590.971767                 Wayne Farms         location 7048  \n",
       "1076  10874.667762           Dole Food Company         location 2532  \n",
       "1136   7411.987146                 Wayne Farms         location 2532  \n",
       "1144  14150.241736                 Wayne Farms         location 2532  \n",
       "1156  24153.758067                 Obery Farms         location 2532  \n",
       "1181   5630.479218                 Obery Farms         location 2532  \n",
       "1300   2379.152927                Foster Farms         location 5410  \n",
       "1346   3239.992125                 Obery Farms         location 5150  \n",
       "1353   2062.539503  Southern Confederate Farms         location 5150  "
      ]
     },
     "execution_count": 11,
     "metadata": {},
     "output_type": "execute_result"
    }
   ],
   "source": [
    "farm_data[farm_data.farm_id.duplicated(keep = 'first') | farm_data.farm_id.duplicated(keep = 'last')]"
   ]
  },
  {
   "cell_type": "code",
   "execution_count": 12,
   "metadata": {},
   "outputs": [],
   "source": [
    "farm_data.drop([1076,537,510,634,705,574,360,678,1300,178,822,679,287,325,395],axis=0,inplace=True)"
   ]
  },
  {
   "cell_type": "code",
   "execution_count": 13,
   "metadata": {},
   "outputs": [
    {
     "data": {
      "text/plain": [
       "0"
      ]
     },
     "execution_count": 13,
     "metadata": {},
     "output_type": "execute_result"
    }
   ],
   "source": [
    "farm_data['farm_id'].duplicated().sum()"
   ]
  },
  {
   "cell_type": "code",
   "execution_count": 14,
   "metadata": {},
   "outputs": [],
   "source": [
    "data_new = pd.merge(train_data,farm_data.rename(columns={'farm_id':'farm_id'}),on='farm_id',how='left')"
   ]
  },
  {
   "cell_type": "code",
   "execution_count": 15,
   "metadata": {},
   "outputs": [
    {
     "data": {
      "text/html": [
       "<div>\n",
       "<style scoped>\n",
       "    .dataframe tbody tr th:only-of-type {\n",
       "        vertical-align: middle;\n",
       "    }\n",
       "\n",
       "    .dataframe tbody tr th {\n",
       "        vertical-align: top;\n",
       "    }\n",
       "\n",
       "    .dataframe thead th {\n",
       "        text-align: right;\n",
       "    }\n",
       "</style>\n",
       "<table border=\"1\" class=\"dataframe\">\n",
       "  <thead>\n",
       "    <tr style=\"text-align: right;\">\n",
       "      <th></th>\n",
       "      <th>date</th>\n",
       "      <th>farm_id</th>\n",
       "      <th>ingredient_type</th>\n",
       "      <th>yield</th>\n",
       "      <th>operations_commencing_year</th>\n",
       "      <th>num_processing_plants</th>\n",
       "      <th>farm_area</th>\n",
       "      <th>farming_company</th>\n",
       "      <th>deidentified_location</th>\n",
       "    </tr>\n",
       "  </thead>\n",
       "  <tbody>\n",
       "    <tr>\n",
       "      <th>0</th>\n",
       "      <td>2016-01-01 00:00:00</td>\n",
       "      <td>fid_110884</td>\n",
       "      <td>ing_w</td>\n",
       "      <td>0.0</td>\n",
       "      <td>2008.0</td>\n",
       "      <td>NaN</td>\n",
       "      <td>690.455096</td>\n",
       "      <td>Obery Farms</td>\n",
       "      <td>location 7369</td>\n",
       "    </tr>\n",
       "    <tr>\n",
       "      <th>1</th>\n",
       "      <td>2016-01-01 00:00:00</td>\n",
       "      <td>fid_90053</td>\n",
       "      <td>ing_w</td>\n",
       "      <td>0.0</td>\n",
       "      <td>2004.0</td>\n",
       "      <td>NaN</td>\n",
       "      <td>252.696160</td>\n",
       "      <td>Obery Farms</td>\n",
       "      <td>location 7369</td>\n",
       "    </tr>\n",
       "    <tr>\n",
       "      <th>2</th>\n",
       "      <td>2016-01-01 00:00:00</td>\n",
       "      <td>fid_17537</td>\n",
       "      <td>ing_w</td>\n",
       "      <td>0.0</td>\n",
       "      <td>1991.0</td>\n",
       "      <td>NaN</td>\n",
       "      <td>499.446528</td>\n",
       "      <td>Obery Farms</td>\n",
       "      <td>location 7369</td>\n",
       "    </tr>\n",
       "    <tr>\n",
       "      <th>3</th>\n",
       "      <td>2016-01-01 00:00:00</td>\n",
       "      <td>fid_110392</td>\n",
       "      <td>ing_w</td>\n",
       "      <td>0.0</td>\n",
       "      <td>2002.0</td>\n",
       "      <td>NaN</td>\n",
       "      <td>2200.407555</td>\n",
       "      <td>Obery Farms</td>\n",
       "      <td>location 7369</td>\n",
       "    </tr>\n",
       "    <tr>\n",
       "      <th>4</th>\n",
       "      <td>2016-01-01 00:00:00</td>\n",
       "      <td>fid_62402</td>\n",
       "      <td>ing_w</td>\n",
       "      <td>0.0</td>\n",
       "      <td>1975.0</td>\n",
       "      <td>NaN</td>\n",
       "      <td>10833.140121</td>\n",
       "      <td>Obery Farms</td>\n",
       "      <td>location 7369</td>\n",
       "    </tr>\n",
       "  </tbody>\n",
       "</table>\n",
       "</div>"
      ],
      "text/plain": [
       "                  date     farm_id ingredient_type  yield  \\\n",
       "0  2016-01-01 00:00:00  fid_110884           ing_w    0.0   \n",
       "1  2016-01-01 00:00:00   fid_90053           ing_w    0.0   \n",
       "2  2016-01-01 00:00:00   fid_17537           ing_w    0.0   \n",
       "3  2016-01-01 00:00:00  fid_110392           ing_w    0.0   \n",
       "4  2016-01-01 00:00:00   fid_62402           ing_w    0.0   \n",
       "\n",
       "   operations_commencing_year  num_processing_plants     farm_area  \\\n",
       "0                      2008.0                    NaN    690.455096   \n",
       "1                      2004.0                    NaN    252.696160   \n",
       "2                      1991.0                    NaN    499.446528   \n",
       "3                      2002.0                    NaN   2200.407555   \n",
       "4                      1975.0                    NaN  10833.140121   \n",
       "\n",
       "  farming_company deidentified_location  \n",
       "0     Obery Farms         location 7369  \n",
       "1     Obery Farms         location 7369  \n",
       "2     Obery Farms         location 7369  \n",
       "3     Obery Farms         location 7369  \n",
       "4     Obery Farms         location 7369  "
      ]
     },
     "execution_count": 15,
     "metadata": {},
     "output_type": "execute_result"
    }
   ],
   "source": [
    "data_new.head()"
   ]
  },
  {
   "cell_type": "code",
   "execution_count": 16,
   "metadata": {},
   "outputs": [],
   "source": [
    "data_new = data_new.rename(columns = {'date':'timestamp'})"
   ]
  },
  {
   "cell_type": "markdown",
   "metadata": {},
   "source": [
    "# combing above data with weather data"
   ]
  },
  {
   "cell_type": "code",
   "execution_count": 17,
   "metadata": {},
   "outputs": [],
   "source": [
    "new_data2 = pd.merge(data_new,weather_data,how = 'left')"
   ]
  },
  {
   "cell_type": "code",
   "execution_count": 18,
   "metadata": {},
   "outputs": [
    {
     "data": {
      "text/html": [
       "<div>\n",
       "<style scoped>\n",
       "    .dataframe tbody tr th:only-of-type {\n",
       "        vertical-align: middle;\n",
       "    }\n",
       "\n",
       "    .dataframe tbody tr th {\n",
       "        vertical-align: top;\n",
       "    }\n",
       "\n",
       "    .dataframe thead th {\n",
       "        text-align: right;\n",
       "    }\n",
       "</style>\n",
       "<table border=\"1\" class=\"dataframe\">\n",
       "  <thead>\n",
       "    <tr style=\"text-align: right;\">\n",
       "      <th></th>\n",
       "      <th>timestamp</th>\n",
       "      <th>farm_id</th>\n",
       "      <th>ingredient_type</th>\n",
       "      <th>yield</th>\n",
       "      <th>operations_commencing_year</th>\n",
       "      <th>num_processing_plants</th>\n",
       "      <th>farm_area</th>\n",
       "      <th>farming_company</th>\n",
       "      <th>deidentified_location</th>\n",
       "      <th>temp_obs</th>\n",
       "      <th>cloudiness</th>\n",
       "      <th>wind_direction</th>\n",
       "      <th>dew_temp</th>\n",
       "      <th>pressure_sea_level</th>\n",
       "      <th>precipitation</th>\n",
       "      <th>wind_speed</th>\n",
       "    </tr>\n",
       "  </thead>\n",
       "  <tbody>\n",
       "    <tr>\n",
       "      <th>0</th>\n",
       "      <td>2016-01-01 00:00:00</td>\n",
       "      <td>fid_110884</td>\n",
       "      <td>ing_w</td>\n",
       "      <td>0.000</td>\n",
       "      <td>2008.0</td>\n",
       "      <td>NaN</td>\n",
       "      <td>690.455096</td>\n",
       "      <td>Obery Farms</td>\n",
       "      <td>location 7369</td>\n",
       "      <td>25.0</td>\n",
       "      <td>6.0</td>\n",
       "      <td>0.0</td>\n",
       "      <td>20.0</td>\n",
       "      <td>1019.7</td>\n",
       "      <td>NaN</td>\n",
       "      <td>0.0</td>\n",
       "    </tr>\n",
       "    <tr>\n",
       "      <th>1</th>\n",
       "      <td>2016-01-01 00:00:00</td>\n",
       "      <td>fid_90053</td>\n",
       "      <td>ing_w</td>\n",
       "      <td>0.000</td>\n",
       "      <td>2004.0</td>\n",
       "      <td>NaN</td>\n",
       "      <td>252.696160</td>\n",
       "      <td>Obery Farms</td>\n",
       "      <td>location 7369</td>\n",
       "      <td>25.0</td>\n",
       "      <td>6.0</td>\n",
       "      <td>0.0</td>\n",
       "      <td>20.0</td>\n",
       "      <td>1019.7</td>\n",
       "      <td>NaN</td>\n",
       "      <td>0.0</td>\n",
       "    </tr>\n",
       "    <tr>\n",
       "      <th>2</th>\n",
       "      <td>2016-01-01 00:00:00</td>\n",
       "      <td>fid_17537</td>\n",
       "      <td>ing_w</td>\n",
       "      <td>0.000</td>\n",
       "      <td>1991.0</td>\n",
       "      <td>NaN</td>\n",
       "      <td>499.446528</td>\n",
       "      <td>Obery Farms</td>\n",
       "      <td>location 7369</td>\n",
       "      <td>25.0</td>\n",
       "      <td>6.0</td>\n",
       "      <td>0.0</td>\n",
       "      <td>20.0</td>\n",
       "      <td>1019.7</td>\n",
       "      <td>NaN</td>\n",
       "      <td>0.0</td>\n",
       "    </tr>\n",
       "    <tr>\n",
       "      <th>3</th>\n",
       "      <td>2016-01-01 00:00:00</td>\n",
       "      <td>fid_110392</td>\n",
       "      <td>ing_w</td>\n",
       "      <td>0.000</td>\n",
       "      <td>2002.0</td>\n",
       "      <td>NaN</td>\n",
       "      <td>2200.407555</td>\n",
       "      <td>Obery Farms</td>\n",
       "      <td>location 7369</td>\n",
       "      <td>25.0</td>\n",
       "      <td>6.0</td>\n",
       "      <td>0.0</td>\n",
       "      <td>20.0</td>\n",
       "      <td>1019.7</td>\n",
       "      <td>NaN</td>\n",
       "      <td>0.0</td>\n",
       "    </tr>\n",
       "    <tr>\n",
       "      <th>4</th>\n",
       "      <td>2016-01-01 00:00:00</td>\n",
       "      <td>fid_62402</td>\n",
       "      <td>ing_w</td>\n",
       "      <td>0.000</td>\n",
       "      <td>1975.0</td>\n",
       "      <td>NaN</td>\n",
       "      <td>10833.140121</td>\n",
       "      <td>Obery Farms</td>\n",
       "      <td>location 7369</td>\n",
       "      <td>25.0</td>\n",
       "      <td>6.0</td>\n",
       "      <td>0.0</td>\n",
       "      <td>20.0</td>\n",
       "      <td>1019.7</td>\n",
       "      <td>NaN</td>\n",
       "      <td>0.0</td>\n",
       "    </tr>\n",
       "    <tr>\n",
       "      <th>...</th>\n",
       "      <td>...</td>\n",
       "      <td>...</td>\n",
       "      <td>...</td>\n",
       "      <td>...</td>\n",
       "      <td>...</td>\n",
       "      <td>...</td>\n",
       "      <td>...</td>\n",
       "      <td>...</td>\n",
       "      <td>...</td>\n",
       "      <td>...</td>\n",
       "      <td>...</td>\n",
       "      <td>...</td>\n",
       "      <td>...</td>\n",
       "      <td>...</td>\n",
       "      <td>...</td>\n",
       "      <td>...</td>\n",
       "    </tr>\n",
       "    <tr>\n",
       "      <th>20216095</th>\n",
       "      <td>2016-12-31 23:00:00</td>\n",
       "      <td>fid_41664</td>\n",
       "      <td>ing_w</td>\n",
       "      <td>8.750</td>\n",
       "      <td>1914.0</td>\n",
       "      <td>NaN</td>\n",
       "      <td>1822.663957</td>\n",
       "      <td>Sanderson Farms</td>\n",
       "      <td>location 5150</td>\n",
       "      <td>1.7</td>\n",
       "      <td>NaN</td>\n",
       "      <td>180.0</td>\n",
       "      <td>-5.6</td>\n",
       "      <td>1008.5</td>\n",
       "      <td>-1.0</td>\n",
       "      <td>8.8</td>\n",
       "    </tr>\n",
       "    <tr>\n",
       "      <th>20216096</th>\n",
       "      <td>2016-12-31 23:00:00</td>\n",
       "      <td>fid_14529</td>\n",
       "      <td>ing_w</td>\n",
       "      <td>4.825</td>\n",
       "      <td>NaN</td>\n",
       "      <td>NaN</td>\n",
       "      <td>399.297094</td>\n",
       "      <td>Obery Farms</td>\n",
       "      <td>location 5150</td>\n",
       "      <td>1.7</td>\n",
       "      <td>NaN</td>\n",
       "      <td>180.0</td>\n",
       "      <td>-5.6</td>\n",
       "      <td>1008.5</td>\n",
       "      <td>-1.0</td>\n",
       "      <td>8.8</td>\n",
       "    </tr>\n",
       "    <tr>\n",
       "      <th>20216097</th>\n",
       "      <td>2016-12-31 23:00:00</td>\n",
       "      <td>fid_46454</td>\n",
       "      <td>ing_w</td>\n",
       "      <td>0.000</td>\n",
       "      <td>1997.0</td>\n",
       "      <td>NaN</td>\n",
       "      <td>1046.552295</td>\n",
       "      <td>Sanderson Farms</td>\n",
       "      <td>location 5150</td>\n",
       "      <td>1.7</td>\n",
       "      <td>NaN</td>\n",
       "      <td>180.0</td>\n",
       "      <td>-5.6</td>\n",
       "      <td>1008.5</td>\n",
       "      <td>-1.0</td>\n",
       "      <td>8.8</td>\n",
       "    </tr>\n",
       "    <tr>\n",
       "      <th>20216098</th>\n",
       "      <td>2016-12-31 23:00:00</td>\n",
       "      <td>fid_24103</td>\n",
       "      <td>ing_w</td>\n",
       "      <td>159.575</td>\n",
       "      <td>2001.0</td>\n",
       "      <td>NaN</td>\n",
       "      <td>2766.186825</td>\n",
       "      <td>Dole Food Company</td>\n",
       "      <td>location 5150</td>\n",
       "      <td>1.7</td>\n",
       "      <td>NaN</td>\n",
       "      <td>180.0</td>\n",
       "      <td>-5.6</td>\n",
       "      <td>1008.5</td>\n",
       "      <td>-1.0</td>\n",
       "      <td>8.8</td>\n",
       "    </tr>\n",
       "    <tr>\n",
       "      <th>20216099</th>\n",
       "      <td>2016-12-31 23:00:00</td>\n",
       "      <td>fid_34139</td>\n",
       "      <td>ing_w</td>\n",
       "      <td>2.850</td>\n",
       "      <td>2001.0</td>\n",
       "      <td>NaN</td>\n",
       "      <td>8572.252713</td>\n",
       "      <td>Wayne Farms</td>\n",
       "      <td>location 5150</td>\n",
       "      <td>1.7</td>\n",
       "      <td>NaN</td>\n",
       "      <td>180.0</td>\n",
       "      <td>-5.6</td>\n",
       "      <td>1008.5</td>\n",
       "      <td>-1.0</td>\n",
       "      <td>8.8</td>\n",
       "    </tr>\n",
       "  </tbody>\n",
       "</table>\n",
       "<p>20216100 rows × 16 columns</p>\n",
       "</div>"
      ],
      "text/plain": [
       "                    timestamp     farm_id ingredient_type    yield  \\\n",
       "0         2016-01-01 00:00:00  fid_110884           ing_w    0.000   \n",
       "1         2016-01-01 00:00:00   fid_90053           ing_w    0.000   \n",
       "2         2016-01-01 00:00:00   fid_17537           ing_w    0.000   \n",
       "3         2016-01-01 00:00:00  fid_110392           ing_w    0.000   \n",
       "4         2016-01-01 00:00:00   fid_62402           ing_w    0.000   \n",
       "...                       ...         ...             ...      ...   \n",
       "20216095  2016-12-31 23:00:00   fid_41664           ing_w    8.750   \n",
       "20216096  2016-12-31 23:00:00   fid_14529           ing_w    4.825   \n",
       "20216097  2016-12-31 23:00:00   fid_46454           ing_w    0.000   \n",
       "20216098  2016-12-31 23:00:00   fid_24103           ing_w  159.575   \n",
       "20216099  2016-12-31 23:00:00   fid_34139           ing_w    2.850   \n",
       "\n",
       "          operations_commencing_year  num_processing_plants     farm_area  \\\n",
       "0                             2008.0                    NaN    690.455096   \n",
       "1                             2004.0                    NaN    252.696160   \n",
       "2                             1991.0                    NaN    499.446528   \n",
       "3                             2002.0                    NaN   2200.407555   \n",
       "4                             1975.0                    NaN  10833.140121   \n",
       "...                              ...                    ...           ...   \n",
       "20216095                      1914.0                    NaN   1822.663957   \n",
       "20216096                         NaN                    NaN    399.297094   \n",
       "20216097                      1997.0                    NaN   1046.552295   \n",
       "20216098                      2001.0                    NaN   2766.186825   \n",
       "20216099                      2001.0                    NaN   8572.252713   \n",
       "\n",
       "            farming_company deidentified_location  temp_obs  cloudiness  \\\n",
       "0               Obery Farms         location 7369      25.0         6.0   \n",
       "1               Obery Farms         location 7369      25.0         6.0   \n",
       "2               Obery Farms         location 7369      25.0         6.0   \n",
       "3               Obery Farms         location 7369      25.0         6.0   \n",
       "4               Obery Farms         location 7369      25.0         6.0   \n",
       "...                     ...                   ...       ...         ...   \n",
       "20216095    Sanderson Farms         location 5150       1.7         NaN   \n",
       "20216096        Obery Farms         location 5150       1.7         NaN   \n",
       "20216097    Sanderson Farms         location 5150       1.7         NaN   \n",
       "20216098  Dole Food Company         location 5150       1.7         NaN   \n",
       "20216099        Wayne Farms         location 5150       1.7         NaN   \n",
       "\n",
       "          wind_direction  dew_temp  pressure_sea_level  precipitation  \\\n",
       "0                    0.0      20.0              1019.7            NaN   \n",
       "1                    0.0      20.0              1019.7            NaN   \n",
       "2                    0.0      20.0              1019.7            NaN   \n",
       "3                    0.0      20.0              1019.7            NaN   \n",
       "4                    0.0      20.0              1019.7            NaN   \n",
       "...                  ...       ...                 ...            ...   \n",
       "20216095           180.0      -5.6              1008.5           -1.0   \n",
       "20216096           180.0      -5.6              1008.5           -1.0   \n",
       "20216097           180.0      -5.6              1008.5           -1.0   \n",
       "20216098           180.0      -5.6              1008.5           -1.0   \n",
       "20216099           180.0      -5.6              1008.5           -1.0   \n",
       "\n",
       "          wind_speed  \n",
       "0                0.0  \n",
       "1                0.0  \n",
       "2                0.0  \n",
       "3                0.0  \n",
       "4                0.0  \n",
       "...              ...  \n",
       "20216095         8.8  \n",
       "20216096         8.8  \n",
       "20216097         8.8  \n",
       "20216098         8.8  \n",
       "20216099         8.8  \n",
       "\n",
       "[20216100 rows x 16 columns]"
      ]
     },
     "execution_count": 18,
     "metadata": {},
     "output_type": "execute_result"
    }
   ],
   "source": [
    "new_data2"
   ]
  },
  {
   "cell_type": "code",
   "execution_count": 19,
   "metadata": {},
   "outputs": [
    {
     "data": {
      "text/plain": [
       "Index(['timestamp', 'farm_id', 'ingredient_type', 'yield',\n",
       "       'operations_commencing_year', 'num_processing_plants', 'farm_area',\n",
       "       'farming_company', 'deidentified_location', 'temp_obs', 'cloudiness',\n",
       "       'wind_direction', 'dew_temp', 'pressure_sea_level', 'precipitation',\n",
       "       'wind_speed'],\n",
       "      dtype='object')"
      ]
     },
     "execution_count": 19,
     "metadata": {},
     "output_type": "execute_result"
    }
   ],
   "source": [
    "new_data2.columns"
   ]
  },
  {
   "cell_type": "code",
   "execution_count": 20,
   "metadata": {},
   "outputs": [
    {
     "data": {
      "text/plain": [
       "timestamp                      object\n",
       "farm_id                        object\n",
       "ingredient_type                object\n",
       "yield                         float64\n",
       "operations_commencing_year    float64\n",
       "num_processing_plants         float64\n",
       "farm_area                     float64\n",
       "farming_company                object\n",
       "deidentified_location          object\n",
       "temp_obs                      float64\n",
       "cloudiness                    float64\n",
       "wind_direction                float64\n",
       "dew_temp                      float64\n",
       "pressure_sea_level            float64\n",
       "precipitation                 float64\n",
       "wind_speed                    float64\n",
       "dtype: object"
      ]
     },
     "execution_count": 20,
     "metadata": {},
     "output_type": "execute_result"
    }
   ],
   "source": [
    "new_data2.dtypes"
   ]
  },
  {
   "cell_type": "code",
   "execution_count": 21,
   "metadata": {},
   "outputs": [],
   "source": [
    "import seaborn as sns"
   ]
  },
  {
   "cell_type": "code",
   "execution_count": 23,
   "metadata": {},
   "outputs": [
    {
     "data": {
      "text/plain": [
       "<matplotlib.axes._subplots.AxesSubplot at 0x4d8bb58080>"
      ]
     },
     "execution_count": 23,
     "metadata": {},
     "output_type": "execute_result"
    },
    {
     "data": {
      "image/png": "[encoded data removed]",
      "text/plain": [
       "<Figure size 1440x360 with 1 Axes>"
      ]
     },
     "metadata": {
      "needs_background": "light"
     },
     "output_type": "display_data"
    }
   ],
   "source": [
    "#checking the percentage of null values in the columns\n",
    "((new_data2.isnull().sum())/new_data2.shape[0]).plot(kind = 'bar',figsize=(20,5))"
   ]
  },
  {
   "cell_type": "code",
   "execution_count": 25,
   "metadata": {},
   "outputs": [
    {
     "data": {
      "text/plain": [
       "timestamp                            0\n",
       "farm_id                              0\n",
       "ingredient_type                      0\n",
       "yield                                0\n",
       "operations_commencing_year    12171967\n",
       "num_processing_plants         16726426\n",
       "farm_area                            0\n",
       "farming_company                      0\n",
       "deidentified_location                0\n",
       "temp_obs                         97260\n",
       "cloudiness                     8827339\n",
       "wind_direction                 1454866\n",
       "dew_temp                        100747\n",
       "pressure_sea_level             1216127\n",
       "precipitation                  3755342\n",
       "wind_speed                      144523\n",
       "dtype: int64"
      ]
     },
     "execution_count": 25,
     "metadata": {},
     "output_type": "execute_result"
    }
   ],
   "source": [
    "new_data2.isnull().sum()"
   ]
  },
  {
   "cell_type": "code",
   "execution_count": 23,
   "metadata": {},
   "outputs": [],
   "source": [
    "import matplotlib.pyplot as plt\n",
    "import pandas as pd\n",
    "import numpy as np\n",
    "import seaborn as sns"
   ]
  },
  {
   "cell_type": "code",
   "execution_count": null,
   "metadata": {},
   "outputs": [],
   "source": []
  },
  {
   "cell_type": "code",
   "execution_count": 24,
   "metadata": {},
   "outputs": [
    {
     "data": {
      "text/plain": [
       "<matplotlib.axes._subplots.AxesSubplot at 0x7b2eaf6f98>"
      ]
     },
     "execution_count": 24,
     "metadata": {},
     "output_type": "execute_result"
    },
    {
     "data": {
      "image/png": "[encoded data removed]",
      "text/plain": [
       "<Figure size 432x288 with 1 Axes>"
      ]
     },
     "metadata": {
      "needs_background": "light"
     },
     "output_type": "display_data"
    }
   ],
   "source": [
    "sns.distplot(new_data2[\"yield\"])"
   ]
  },
  {
   "cell_type": "code",
   "execution_count": 25,
   "metadata": {},
   "outputs": [
    {
     "data": {
      "text/plain": [
       "<matplotlib.axes._subplots.AxesSubplot at 0x7b2e85df98>"
      ]
     },
     "execution_count": 25,
     "metadata": {},
     "output_type": "execute_result"
    },
    {
     "data": {
      "image/png": "[encoded data removed]",
      "text/plain": [
       "<Figure size 1080x1080 with 2 Axes>"
      ]
     },
     "metadata": {
      "needs_background": "light"
     },
     "output_type": "display_data"
    }
   ],
   "source": [
    "cormat = new_data2.corr()\n",
    "\n",
    "f , ax = plt.subplots(figsize=(15,15))\n",
    "sns.heatmap(cormat,ax=ax,cmap=\"YlGnBu\" ,linewidths=0.5,annot=True)"
   ]
  },
  {
   "cell_type": "code",
   "execution_count": null,
   "metadata": {},
   "outputs": [],
   "source": [
    "from sklearn.preprocessing import Normalizer\n",
    "normalizeddf_train = Normalizer().fit_transform(new_data2)"
   ]
  },
  {
   "cell_type": "code",
   "execution_count": 71,
   "metadata": {},
   "outputs": [
    {
     "ename": "AttributeError",
     "evalue": "'numpy.ndarray' object has no attribute 'corr'",
     "output_type": "error",
     "traceback": [
      "\u001b[1;31m---------------------------------------------------------------------------\u001b[0m",
      "\u001b[1;31mAttributeError\u001b[0m                            Traceback (most recent call last)",
      "\u001b[1;32m<ipython-input-71-5515a68bd6e8>\u001b[0m in \u001b[0;36m<module>\u001b[1;34m\u001b[0m\n\u001b[0;32m      1\u001b[0m \u001b[0mpd\u001b[0m\u001b[1;33m.\u001b[0m\u001b[0mset_option\u001b[0m\u001b[1;33m(\u001b[0m\u001b[1;34m'display.width'\u001b[0m\u001b[1;33m,\u001b[0m \u001b[1;36m100\u001b[0m\u001b[1;33m)\u001b[0m\u001b[1;33m\u001b[0m\u001b[1;33m\u001b[0m\u001b[0m\n\u001b[0;32m      2\u001b[0m \u001b[0mpd\u001b[0m\u001b[1;33m.\u001b[0m\u001b[0mset_option\u001b[0m\u001b[1;33m(\u001b[0m\u001b[1;34m'precision'\u001b[0m\u001b[1;33m,\u001b[0m \u001b[1;36m2\u001b[0m\u001b[1;33m)\u001b[0m\u001b[1;33m\u001b[0m\u001b[1;33m\u001b[0m\u001b[0m\n\u001b[1;32m----> 3\u001b[1;33m \u001b[0mprint\u001b[0m\u001b[1;33m(\u001b[0m\u001b[0mnormalizeddf_train\u001b[0m\u001b[1;33m.\u001b[0m\u001b[0mcorr\u001b[0m\u001b[1;33m(\u001b[0m\u001b[0mmethod\u001b[0m\u001b[1;33m=\u001b[0m\u001b[1;34m'pearson'\u001b[0m\u001b[1;33m)\u001b[0m\u001b[1;33m)\u001b[0m\u001b[1;33m\u001b[0m\u001b[1;33m\u001b[0m\u001b[0m\n\u001b[0m",
      "\u001b[1;31mAttributeError\u001b[0m: 'numpy.ndarray' object has no attribute 'corr'"
     ]
    }
   ],
   "source": [
    "pd.set_option('display.width', 100)\n",
    "pd.set_option('precision', 2)\n",
    "print(normalizeddf_train.corr(method='pearson'))"
   ]
  }
 ],
 "metadata": {
  "kernelspec": {
   "display_name": "Python 3",
   "language": "python",
   "name": "python3"
  },
  "language_info": {
   "codemirror_mode": {
    "name": "ipython",
    "version": 3
   },
   "file_extension": ".py",
   "mimetype": "text/x-python",
   "name": "python",
   "nbconvert_exporter": "python",
   "pygments_lexer": "ipython3",
   "version": "3.6.8"
  }
 },
 "nbformat": 4,
 "nbformat_minor": 2
}
